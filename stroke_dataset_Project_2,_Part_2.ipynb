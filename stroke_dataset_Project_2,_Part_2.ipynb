{
  "nbformat": 4,
  "nbformat_minor": 0,
  "metadata": {
    "colab": {
      "provenance": [],
      "authorship_tag": "ABX9TyM0Mn4xHzz7Hx4FZ37BUOfd",
      "include_colab_link": true
    },
    "kernelspec": {
      "name": "python3",
      "display_name": "Python 3"
    },
    "language_info": {
      "name": "python"
    }
  },
  "cells": [
    {
      "cell_type": "markdown",
      "metadata": {
        "id": "view-in-github",
        "colab_type": "text"
      },
      "source": [
        "<a href=\"https://colab.research.google.com/github/IrinaIsobel/project2/blob/main/stroke_dataset_Project_2%2C_Part_2.ipynb\" target=\"_parent\"><img src=\"https://colab.research.google.com/assets/colab-badge.svg\" alt=\"Open In Colab\"/></a>"
      ]
    },
    {
      "cell_type": "code",
      "execution_count": 1,
      "metadata": {
        "id": "-K9o0MTI65QT"
      },
      "outputs": [],
      "source": [
        "import numpy as np\n",
        "import pandas as pd"
      ]
    },
    {
      "cell_type": "code",
      "source": [
        "stroke = pd.read_csv('https://docs.google.com/spreadsheets/d/e/2PACX-1vQwT4Q_Hiezgbu98UOI6Qb9BbkmnK8ghZ7-xowBNpr2_h2CHcE9JJNC4vzyAs4rxdRlIdmYCFBoldlj/pub?output=csv')\n",
        "stroke.head()"
      ],
      "metadata": {
        "colab": {
          "base_uri": "https://localhost:8080/",
          "height": 305
        },
        "id": "oZTuNzrc7N90",
        "outputId": "a48ed13e-7f49-46cf-c5a3-d48ae47cc3a4"
      },
      "execution_count": 2,
      "outputs": [
        {
          "output_type": "execute_result",
          "data": {
            "text/plain": [
              "      id  gender   age  hypertension  heart_disease ever_married  \\\n",
              "0   9046    Male  67.0             0              1          Yes   \n",
              "1  51676  Female  61.0             0              0          Yes   \n",
              "2  31112    Male  80.0             0              1          Yes   \n",
              "3  60182  Female  49.0             0              0          Yes   \n",
              "4   1665  Female  79.0             1              0          Yes   \n",
              "\n",
              "       work_type Residence_type  avg_glucose_level   bmi   smoking_status  \\\n",
              "0        Private          Urban             228.69  36.6  formerly smoked   \n",
              "1  Self-employed          Rural             202.21   NaN     never smoked   \n",
              "2        Private          Rural             105.92  32.5     never smoked   \n",
              "3        Private          Urban             171.23  34.4           smokes   \n",
              "4  Self-employed          Rural             174.12  24.0     never smoked   \n",
              "\n",
              "   stroke  \n",
              "0       1  \n",
              "1       1  \n",
              "2       1  \n",
              "3       1  \n",
              "4       1  "
            ],
            "text/html": [
              "\n",
              "  <div id=\"df-1603ad27-271b-47b8-9c77-ccf570d0e3f7\">\n",
              "    <div class=\"colab-df-container\">\n",
              "      <div>\n",
              "<style scoped>\n",
              "    .dataframe tbody tr th:only-of-type {\n",
              "        vertical-align: middle;\n",
              "    }\n",
              "\n",
              "    .dataframe tbody tr th {\n",
              "        vertical-align: top;\n",
              "    }\n",
              "\n",
              "    .dataframe thead th {\n",
              "        text-align: right;\n",
              "    }\n",
              "</style>\n",
              "<table border=\"1\" class=\"dataframe\">\n",
              "  <thead>\n",
              "    <tr style=\"text-align: right;\">\n",
              "      <th></th>\n",
              "      <th>id</th>\n",
              "      <th>gender</th>\n",
              "      <th>age</th>\n",
              "      <th>hypertension</th>\n",
              "      <th>heart_disease</th>\n",
              "      <th>ever_married</th>\n",
              "      <th>work_type</th>\n",
              "      <th>Residence_type</th>\n",
              "      <th>avg_glucose_level</th>\n",
              "      <th>bmi</th>\n",
              "      <th>smoking_status</th>\n",
              "      <th>stroke</th>\n",
              "    </tr>\n",
              "  </thead>\n",
              "  <tbody>\n",
              "    <tr>\n",
              "      <th>0</th>\n",
              "      <td>9046</td>\n",
              "      <td>Male</td>\n",
              "      <td>67.0</td>\n",
              "      <td>0</td>\n",
              "      <td>1</td>\n",
              "      <td>Yes</td>\n",
              "      <td>Private</td>\n",
              "      <td>Urban</td>\n",
              "      <td>228.69</td>\n",
              "      <td>36.6</td>\n",
              "      <td>formerly smoked</td>\n",
              "      <td>1</td>\n",
              "    </tr>\n",
              "    <tr>\n",
              "      <th>1</th>\n",
              "      <td>51676</td>\n",
              "      <td>Female</td>\n",
              "      <td>61.0</td>\n",
              "      <td>0</td>\n",
              "      <td>0</td>\n",
              "      <td>Yes</td>\n",
              "      <td>Self-employed</td>\n",
              "      <td>Rural</td>\n",
              "      <td>202.21</td>\n",
              "      <td>NaN</td>\n",
              "      <td>never smoked</td>\n",
              "      <td>1</td>\n",
              "    </tr>\n",
              "    <tr>\n",
              "      <th>2</th>\n",
              "      <td>31112</td>\n",
              "      <td>Male</td>\n",
              "      <td>80.0</td>\n",
              "      <td>0</td>\n",
              "      <td>1</td>\n",
              "      <td>Yes</td>\n",
              "      <td>Private</td>\n",
              "      <td>Rural</td>\n",
              "      <td>105.92</td>\n",
              "      <td>32.5</td>\n",
              "      <td>never smoked</td>\n",
              "      <td>1</td>\n",
              "    </tr>\n",
              "    <tr>\n",
              "      <th>3</th>\n",
              "      <td>60182</td>\n",
              "      <td>Female</td>\n",
              "      <td>49.0</td>\n",
              "      <td>0</td>\n",
              "      <td>0</td>\n",
              "      <td>Yes</td>\n",
              "      <td>Private</td>\n",
              "      <td>Urban</td>\n",
              "      <td>171.23</td>\n",
              "      <td>34.4</td>\n",
              "      <td>smokes</td>\n",
              "      <td>1</td>\n",
              "    </tr>\n",
              "    <tr>\n",
              "      <th>4</th>\n",
              "      <td>1665</td>\n",
              "      <td>Female</td>\n",
              "      <td>79.0</td>\n",
              "      <td>1</td>\n",
              "      <td>0</td>\n",
              "      <td>Yes</td>\n",
              "      <td>Self-employed</td>\n",
              "      <td>Rural</td>\n",
              "      <td>174.12</td>\n",
              "      <td>24.0</td>\n",
              "      <td>never smoked</td>\n",
              "      <td>1</td>\n",
              "    </tr>\n",
              "  </tbody>\n",
              "</table>\n",
              "</div>\n",
              "      <button class=\"colab-df-convert\" onclick=\"convertToInteractive('df-1603ad27-271b-47b8-9c77-ccf570d0e3f7')\"\n",
              "              title=\"Convert this dataframe to an interactive table.\"\n",
              "              style=\"display:none;\">\n",
              "        \n",
              "  <svg xmlns=\"http://www.w3.org/2000/svg\" height=\"24px\"viewBox=\"0 0 24 24\"\n",
              "       width=\"24px\">\n",
              "    <path d=\"M0 0h24v24H0V0z\" fill=\"none\"/>\n",
              "    <path d=\"M18.56 5.44l.94 2.06.94-2.06 2.06-.94-2.06-.94-.94-2.06-.94 2.06-2.06.94zm-11 1L8.5 8.5l.94-2.06 2.06-.94-2.06-.94L8.5 2.5l-.94 2.06-2.06.94zm10 10l.94 2.06.94-2.06 2.06-.94-2.06-.94-.94-2.06-.94 2.06-2.06.94z\"/><path d=\"M17.41 7.96l-1.37-1.37c-.4-.4-.92-.59-1.43-.59-.52 0-1.04.2-1.43.59L10.3 9.45l-7.72 7.72c-.78.78-.78 2.05 0 2.83L4 21.41c.39.39.9.59 1.41.59.51 0 1.02-.2 1.41-.59l7.78-7.78 2.81-2.81c.8-.78.8-2.07 0-2.86zM5.41 20L4 18.59l7.72-7.72 1.47 1.35L5.41 20z\"/>\n",
              "  </svg>\n",
              "      </button>\n",
              "      \n",
              "  <style>\n",
              "    .colab-df-container {\n",
              "      display:flex;\n",
              "      flex-wrap:wrap;\n",
              "      gap: 12px;\n",
              "    }\n",
              "\n",
              "    .colab-df-convert {\n",
              "      background-color: #E8F0FE;\n",
              "      border: none;\n",
              "      border-radius: 50%;\n",
              "      cursor: pointer;\n",
              "      display: none;\n",
              "      fill: #1967D2;\n",
              "      height: 32px;\n",
              "      padding: 0 0 0 0;\n",
              "      width: 32px;\n",
              "    }\n",
              "\n",
              "    .colab-df-convert:hover {\n",
              "      background-color: #E2EBFA;\n",
              "      box-shadow: 0px 1px 2px rgba(60, 64, 67, 0.3), 0px 1px 3px 1px rgba(60, 64, 67, 0.15);\n",
              "      fill: #174EA6;\n",
              "    }\n",
              "\n",
              "    [theme=dark] .colab-df-convert {\n",
              "      background-color: #3B4455;\n",
              "      fill: #D2E3FC;\n",
              "    }\n",
              "\n",
              "    [theme=dark] .colab-df-convert:hover {\n",
              "      background-color: #434B5C;\n",
              "      box-shadow: 0px 1px 3px 1px rgba(0, 0, 0, 0.15);\n",
              "      filter: drop-shadow(0px 1px 2px rgba(0, 0, 0, 0.3));\n",
              "      fill: #FFFFFF;\n",
              "    }\n",
              "  </style>\n",
              "\n",
              "      <script>\n",
              "        const buttonEl =\n",
              "          document.querySelector('#df-1603ad27-271b-47b8-9c77-ccf570d0e3f7 button.colab-df-convert');\n",
              "        buttonEl.style.display =\n",
              "          google.colab.kernel.accessAllowed ? 'block' : 'none';\n",
              "\n",
              "        async function convertToInteractive(key) {\n",
              "          const element = document.querySelector('#df-1603ad27-271b-47b8-9c77-ccf570d0e3f7');\n",
              "          const dataTable =\n",
              "            await google.colab.kernel.invokeFunction('convertToInteractive',\n",
              "                                                     [key], {});\n",
              "          if (!dataTable) return;\n",
              "\n",
              "          const docLinkHtml = 'Like what you see? Visit the ' +\n",
              "            '<a target=\"_blank\" href=https://colab.research.google.com/notebooks/data_table.ipynb>data table notebook</a>'\n",
              "            + ' to learn more about interactive tables.';\n",
              "          element.innerHTML = '';\n",
              "          dataTable['output_type'] = 'display_data';\n",
              "          await google.colab.output.renderOutput(dataTable, element);\n",
              "          const docLink = document.createElement('div');\n",
              "          docLink.innerHTML = docLinkHtml;\n",
              "          element.appendChild(docLink);\n",
              "        }\n",
              "      </script>\n",
              "    </div>\n",
              "  </div>\n",
              "  "
            ]
          },
          "metadata": {},
          "execution_count": 2
        }
      ]
    },
    {
      "cell_type": "code",
      "source": [
        "df = stroke.copy()"
      ],
      "metadata": {
        "id": "U0JLpZDpjyX_"
      },
      "execution_count": 3,
      "outputs": []
    },
    {
      "cell_type": "code",
      "source": [
        "df.info()"
      ],
      "metadata": {
        "colab": {
          "base_uri": "https://localhost:8080/"
        },
        "id": "5pMm4Kb6j9x_",
        "outputId": "9dce7841-5006-4ecf-c660-fa7daa88dd7f"
      },
      "execution_count": 4,
      "outputs": [
        {
          "output_type": "stream",
          "name": "stdout",
          "text": [
            "<class 'pandas.core.frame.DataFrame'>\n",
            "RangeIndex: 5110 entries, 0 to 5109\n",
            "Data columns (total 12 columns):\n",
            " #   Column             Non-Null Count  Dtype  \n",
            "---  ------             --------------  -----  \n",
            " 0   id                 5110 non-null   int64  \n",
            " 1   gender             5110 non-null   object \n",
            " 2   age                5110 non-null   float64\n",
            " 3   hypertension       5110 non-null   int64  \n",
            " 4   heart_disease      5110 non-null   int64  \n",
            " 5   ever_married       5110 non-null   object \n",
            " 6   work_type          5110 non-null   object \n",
            " 7   Residence_type     5110 non-null   object \n",
            " 8   avg_glucose_level  5110 non-null   float64\n",
            " 9   bmi                4909 non-null   float64\n",
            " 10  smoking_status     5110 non-null   object \n",
            " 11  stroke             5110 non-null   int64  \n",
            "dtypes: float64(3), int64(4), object(5)\n",
            "memory usage: 479.2+ KB\n"
          ]
        }
      ]
    },
    {
      "cell_type": "markdown",
      "source": [
        "- Target:\n",
        ">Stroke\n",
        "- Features:\n",
        ">Age, Gender, Hypertension, Heart Disease, Work Type, Residence Type, Average Glucose Level, BMI, and Smoking Status"
      ],
      "metadata": {
        "id": "09hMGP6JyUgw"
      }
    },
    {
      "cell_type": "markdown",
      "source": [
        "#Cleaning Data"
      ],
      "metadata": {
        "id": "cjjbEc_CkCUS"
      }
    },
    {
      "cell_type": "markdown",
      "source": [
        "- Changing column names to lowercase for convenience"
      ],
      "metadata": {
        "id": "57_rqh6CfJyk"
      }
    },
    {
      "cell_type": "code",
      "source": [
        "df= df.rename(columns=str.lower)"
      ],
      "metadata": {
        "id": "QSqK7apNfJbl"
      },
      "execution_count": 5,
      "outputs": []
    },
    {
      "cell_type": "markdown",
      "source": [
        "- Removing Duplicates"
      ],
      "metadata": {
        "id": "czecQkDOkFMe"
      }
    },
    {
      "cell_type": "code",
      "source": [
        "df.duplicated().sum()"
      ],
      "metadata": {
        "colab": {
          "base_uri": "https://localhost:8080/"
        },
        "id": "2ivz6TtpkAYn",
        "outputId": "301d2585-b966-4e29-fa34-26305b69748b"
      },
      "execution_count": 6,
      "outputs": [
        {
          "output_type": "execute_result",
          "data": {
            "text/plain": [
              "0"
            ]
          },
          "metadata": {},
          "execution_count": 6
        }
      ]
    },
    {
      "cell_type": "markdown",
      "source": [
        "- Dropping Unecessary Columns"
      ],
      "metadata": {
        "id": "yJxiiuU_kPgj"
      }
    },
    {
      "cell_type": "code",
      "source": [
        "df.drop(columns = ['id', 'ever_married'], inplace = True)\n",
        "df.info()"
      ],
      "metadata": {
        "colab": {
          "base_uri": "https://localhost:8080/"
        },
        "id": "u_W41d94kIfE",
        "outputId": "335542e7-59ed-490c-9169-2a8c2bb2785d"
      },
      "execution_count": 7,
      "outputs": [
        {
          "output_type": "stream",
          "name": "stdout",
          "text": [
            "<class 'pandas.core.frame.DataFrame'>\n",
            "RangeIndex: 5110 entries, 0 to 5109\n",
            "Data columns (total 10 columns):\n",
            " #   Column             Non-Null Count  Dtype  \n",
            "---  ------             --------------  -----  \n",
            " 0   gender             5110 non-null   object \n",
            " 1   age                5110 non-null   float64\n",
            " 2   hypertension       5110 non-null   int64  \n",
            " 3   heart_disease      5110 non-null   int64  \n",
            " 4   work_type          5110 non-null   object \n",
            " 5   residence_type     5110 non-null   object \n",
            " 6   avg_glucose_level  5110 non-null   float64\n",
            " 7   bmi                4909 non-null   float64\n",
            " 8   smoking_status     5110 non-null   object \n",
            " 9   stroke             5110 non-null   int64  \n",
            "dtypes: float64(3), int64(3), object(4)\n",
            "memory usage: 399.3+ KB\n"
          ]
        }
      ]
    },
    {
      "cell_type": "code",
      "source": [
        "df.shape"
      ],
      "metadata": {
        "colab": {
          "base_uri": "https://localhost:8080/"
        },
        "id": "NoLS2SzDl1hf",
        "outputId": "e5f5a2a5-0365-408a-8ca6-d18e535d2194"
      },
      "execution_count": 8,
      "outputs": [
        {
          "output_type": "execute_result",
          "data": {
            "text/plain": [
              "(5110, 10)"
            ]
          },
          "metadata": {},
          "execution_count": 8
        }
      ]
    },
    {
      "cell_type": "markdown",
      "source": [
        "- Identifying and Addressing Missing Values"
      ],
      "metadata": {
        "id": "yWI66jbqkuNH"
      }
    },
    {
      "cell_type": "code",
      "source": [
        "df.isna().sum()"
      ],
      "metadata": {
        "colab": {
          "base_uri": "https://localhost:8080/"
        },
        "id": "y-4valh1kg1J",
        "outputId": "a29853dc-29a3-4a49-8eb5-c0f257ea893c"
      },
      "execution_count": 9,
      "outputs": [
        {
          "output_type": "execute_result",
          "data": {
            "text/plain": [
              "gender                 0\n",
              "age                    0\n",
              "hypertension           0\n",
              "heart_disease          0\n",
              "work_type              0\n",
              "residence_type         0\n",
              "avg_glucose_level      0\n",
              "bmi                  201\n",
              "smoking_status         0\n",
              "stroke                 0\n",
              "dtype: int64"
            ]
          },
          "metadata": {},
          "execution_count": 9
        }
      ]
    },
    {
      "cell_type": "code",
      "source": [
        "201/5110"
      ],
      "metadata": {
        "colab": {
          "base_uri": "https://localhost:8080/"
        },
        "id": "DEbhqXGMmH7m",
        "outputId": "3370400b-be6d-4d16-dd09-d1f8c35bfb4d"
      },
      "execution_count": 10,
      "outputs": [
        {
          "output_type": "execute_result",
          "data": {
            "text/plain": [
              "0.03933463796477495"
            ]
          },
          "metadata": {},
          "execution_count": 10
        }
      ]
    },
    {
      "cell_type": "markdown",
      "source": [
        "> Of 5,110 rows, 201 have null values. This amounts to 3.9%, which is negligible, therefore I will drop the rows from the data set.\n",
        "\n"
      ],
      "metadata": {
        "id": "_uO2fBKnl4Ny"
      }
    },
    {
      "cell_type": "code",
      "source": [
        "df.dropna(inplace = True)\n",
        "df.isna().sum()"
      ],
      "metadata": {
        "colab": {
          "base_uri": "https://localhost:8080/"
        },
        "id": "IXxUeH43lMcQ",
        "outputId": "8116d8bc-f000-4727-d5ff-ae83ae2702db"
      },
      "execution_count": 11,
      "outputs": [
        {
          "output_type": "execute_result",
          "data": {
            "text/plain": [
              "gender               0\n",
              "age                  0\n",
              "hypertension         0\n",
              "heart_disease        0\n",
              "work_type            0\n",
              "residence_type       0\n",
              "avg_glucose_level    0\n",
              "bmi                  0\n",
              "smoking_status       0\n",
              "stroke               0\n",
              "dtype: int64"
            ]
          },
          "metadata": {},
          "execution_count": 11
        }
      ]
    },
    {
      "cell_type": "markdown",
      "source": [
        "- Identifying and Correcting Inconsistencies"
      ],
      "metadata": {
        "id": "FbV2d497nfsw"
      }
    },
    {
      "cell_type": "code",
      "source": [
        "df.dtypes"
      ],
      "metadata": {
        "colab": {
          "base_uri": "https://localhost:8080/"
        },
        "id": "cGQv2bJNnB22",
        "outputId": "a4aa4730-85ec-4298-e26c-e714a5805dab"
      },
      "execution_count": 12,
      "outputs": [
        {
          "output_type": "execute_result",
          "data": {
            "text/plain": [
              "gender                object\n",
              "age                  float64\n",
              "hypertension           int64\n",
              "heart_disease          int64\n",
              "work_type             object\n",
              "residence_type        object\n",
              "avg_glucose_level    float64\n",
              "bmi                  float64\n",
              "smoking_status        object\n",
              "stroke                 int64\n",
              "dtype: object"
            ]
          },
          "metadata": {},
          "execution_count": 12
        }
      ]
    },
    {
      "cell_type": "code",
      "source": [
        "dtypes = df.dtypes\n",
        "cat_col = dtypes[dtypes == 'object'].index\n",
        "cat_col"
      ],
      "metadata": {
        "colab": {
          "base_uri": "https://localhost:8080/"
        },
        "id": "LuCNkBI3nm-_",
        "outputId": "5b2db065-7448-4b36-f784-70688d71e519"
      },
      "execution_count": 13,
      "outputs": [
        {
          "output_type": "execute_result",
          "data": {
            "text/plain": [
              "Index(['gender', 'work_type', 'residence_type', 'smoking_status'], dtype='object')"
            ]
          },
          "metadata": {},
          "execution_count": 13
        }
      ]
    },
    {
      "cell_type": "code",
      "source": [
        "for col in cat_col:\n",
        "    print(df[col].value_counts())\n",
        "    print('\\n\\n')"
      ],
      "metadata": {
        "colab": {
          "base_uri": "https://localhost:8080/"
        },
        "id": "GSyFl_oHoi1q",
        "outputId": "a2b395ef-5268-4206-d593-391edd9ce967"
      },
      "execution_count": 14,
      "outputs": [
        {
          "output_type": "stream",
          "name": "stdout",
          "text": [
            "Female    2897\n",
            "Male      2011\n",
            "Other        1\n",
            "Name: gender, dtype: int64\n",
            "\n",
            "\n",
            "\n",
            "Private          2811\n",
            "Self-employed     775\n",
            "children          671\n",
            "Govt_job          630\n",
            "Never_worked       22\n",
            "Name: work_type, dtype: int64\n",
            "\n",
            "\n",
            "\n",
            "Urban    2490\n",
            "Rural    2419\n",
            "Name: residence_type, dtype: int64\n",
            "\n",
            "\n",
            "\n",
            "never smoked       1852\n",
            "Unknown            1483\n",
            "formerly smoked     837\n",
            "smokes              737\n",
            "Name: smoking_status, dtype: int64\n",
            "\n",
            "\n",
            "\n"
          ]
        }
      ]
    },
    {
      "cell_type": "code",
      "source": [
        "df.replace({'children':'Children', 'Govt_job':'Govt_Job','Never_worked':'Never_Worked','never smoked':'Never_Smoked', 'formerly smoked':'Formerly_Smoked', 'smokes':'Smokes'}, inplace = True)"
      ],
      "metadata": {
        "id": "MY_JwmrdCDXP"
      },
      "execution_count": 15,
      "outputs": []
    },
    {
      "cell_type": "code",
      "source": [
        "for col in cat_col:\n",
        "    print(df[col].value_counts())\n",
        "    print('\\n\\n')"
      ],
      "metadata": {
        "colab": {
          "base_uri": "https://localhost:8080/"
        },
        "id": "h8yCn5w3C7K5",
        "outputId": "63719f9a-d833-4575-f520-f25f71996bb7"
      },
      "execution_count": 16,
      "outputs": [
        {
          "output_type": "stream",
          "name": "stdout",
          "text": [
            "Female    2897\n",
            "Male      2011\n",
            "Other        1\n",
            "Name: gender, dtype: int64\n",
            "\n",
            "\n",
            "\n",
            "Private          2811\n",
            "Self-employed     775\n",
            "Children          671\n",
            "Govt_Job          630\n",
            "Never_Worked       22\n",
            "Name: work_type, dtype: int64\n",
            "\n",
            "\n",
            "\n",
            "Urban    2490\n",
            "Rural    2419\n",
            "Name: residence_type, dtype: int64\n",
            "\n",
            "\n",
            "\n",
            "Never_Smoked       1852\n",
            "Unknown            1483\n",
            "Formerly_Smoked     837\n",
            "Smokes              737\n",
            "Name: smoking_status, dtype: int64\n",
            "\n",
            "\n",
            "\n"
          ]
        }
      ]
    },
    {
      "cell_type": "markdown",
      "source": [
        "> All categorcial data is consistent."
      ],
      "metadata": {
        "id": "IaK7MTCEp0u8"
      }
    },
    {
      "cell_type": "code",
      "source": [
        "num_col = dtypes[dtypes != 'object'].index\n",
        "num_col"
      ],
      "metadata": {
        "colab": {
          "base_uri": "https://localhost:8080/"
        },
        "id": "qyXxzjT-ow0w",
        "outputId": "b9470454-2b1e-49fa-de1f-a5f3de758ee4"
      },
      "execution_count": 17,
      "outputs": [
        {
          "output_type": "execute_result",
          "data": {
            "text/plain": [
              "Index(['age', 'hypertension', 'heart_disease', 'avg_glucose_level', 'bmi',\n",
              "       'stroke'],\n",
              "      dtype='object')"
            ]
          },
          "metadata": {},
          "execution_count": 17
        }
      ]
    },
    {
      "cell_type": "code",
      "source": [
        "for col in num_col:\n",
        "    print(f'Column = {col}')\n",
        "    print(df[col].sort_values(ascending=False))\n",
        "    print('\\n\\n')"
      ],
      "metadata": {
        "colab": {
          "base_uri": "https://localhost:8080/"
        },
        "id": "ueV7VSImqEUe",
        "outputId": "b39857bd-7b06-4630-b245-3c278cf71c50"
      },
      "execution_count": 18,
      "outputs": [
        {
          "output_type": "stream",
          "name": "stdout",
          "text": [
            "Column = age\n",
            "2314    82.00\n",
            "670     82.00\n",
            "4819    82.00\n",
            "2341    82.00\n",
            "3603    82.00\n",
            "        ...  \n",
            "3968     0.16\n",
            "4021     0.16\n",
            "3618     0.16\n",
            "1614     0.08\n",
            "3295     0.08\n",
            "Name: age, Length: 4909, dtype: float64\n",
            "\n",
            "\n",
            "\n",
            "Column = hypertension\n",
            "759     1\n",
            "3677    1\n",
            "3578    1\n",
            "1775    1\n",
            "1776    1\n",
            "       ..\n",
            "1838    0\n",
            "1835    0\n",
            "1834    0\n",
            "1833    0\n",
            "5109    0\n",
            "Name: hypertension, Length: 4909, dtype: int64\n",
            "\n",
            "\n",
            "\n",
            "Column = heart_disease\n",
            "0       1\n",
            "636     1\n",
            "2433    1\n",
            "923     1\n",
            "2122    1\n",
            "       ..\n",
            "1788    0\n",
            "1787    0\n",
            "1786    0\n",
            "1784    0\n",
            "5109    0\n",
            "Name: heart_disease, Length: 4909, dtype: int64\n",
            "\n",
            "\n",
            "\n",
            "Column = avg_glucose_level\n",
            "193     271.74\n",
            "1207    267.76\n",
            "3088    267.61\n",
            "4983    267.60\n",
            "2462    266.59\n",
            "         ...  \n",
            "772      55.26\n",
            "682      55.25\n",
            "4110     55.23\n",
            "1191     55.22\n",
            "4886     55.12\n",
            "Name: avg_glucose_level, Length: 4909, dtype: float64\n",
            "\n",
            "\n",
            "\n",
            "Column = bmi\n",
            "2128    97.6\n",
            "4209    92.0\n",
            "928     78.0\n",
            "544     71.9\n",
            "1559    66.8\n",
            "        ... \n",
            "922     12.3\n",
            "657     12.0\n",
            "2187    11.5\n",
            "3307    11.3\n",
            "1609    10.3\n",
            "Name: bmi, Length: 4909, dtype: float64\n",
            "\n",
            "\n",
            "\n",
            "Column = stroke\n",
            "0       1\n",
            "192     1\n",
            "158     1\n",
            "159     1\n",
            "163     1\n",
            "       ..\n",
            "1873    0\n",
            "1872    0\n",
            "1871    0\n",
            "1870    0\n",
            "5109    0\n",
            "Name: stroke, Length: 4909, dtype: int64\n",
            "\n",
            "\n",
            "\n"
          ]
        }
      ]
    },
    {
      "cell_type": "code",
      "source": [
        "df['age'].sort_values(ascending = True)"
      ],
      "metadata": {
        "colab": {
          "base_uri": "https://localhost:8080/"
        },
        "id": "Nl0O08aJEkOi",
        "outputId": "09efb431-7700-4ae4-83ea-ef1c75c0fc8f"
      },
      "execution_count": 19,
      "outputs": [
        {
          "output_type": "execute_result",
          "data": {
            "text/plain": [
              "3295     0.08\n",
              "1614     0.08\n",
              "3968     0.16\n",
              "3618     0.16\n",
              "4021     0.16\n",
              "        ...  \n",
              "3400    82.00\n",
              "2979    82.00\n",
              "3422    82.00\n",
              "1068    82.00\n",
              "2453    82.00\n",
              "Name: age, Length: 4909, dtype: float64"
            ]
          },
          "metadata": {},
          "execution_count": 19
        }
      ]
    },
    {
      "cell_type": "code",
      "source": [
        "df.loc[df['age'] < 1]"
      ],
      "metadata": {
        "colab": {
          "base_uri": "https://localhost:8080/",
          "height": 1000
        },
        "id": "ylFK5_Q3P1tv",
        "outputId": "73a3adcf-83f0-4efb-89e8-d7038d2966a1"
      },
      "execution_count": 20,
      "outputs": [
        {
          "output_type": "execute_result",
          "data": {
            "text/plain": [
              "      gender   age  hypertension  heart_disease work_type residence_type  \\\n",
              "363   Female  0.64             0              0  Children          Urban   \n",
              "376   Female  0.88             0              0  Children          Rural   \n",
              "564   Female  0.32             0              0  Children          Rural   \n",
              "982     Male  0.88             0              0  Children          Rural   \n",
              "996     Male  0.24             0              0  Children          Rural   \n",
              "1093  Female  0.32             0              0  Children          Rural   \n",
              "1206  Female  0.72             0              0  Children          Urban   \n",
              "1317    Male  0.80             0              0  Children          Rural   \n",
              "1600    Male  0.40             0              0  Children          Urban   \n",
              "1614  Female  0.08             0              0  Children          Urban   \n",
              "1808  Female  0.64             0              0  Children          Urban   \n",
              "1975    Male  0.56             0              0  Children          Rural   \n",
              "1999    Male  0.24             0              0  Children          Rural   \n",
              "2008    Male  0.56             0              0  Children          Rural   \n",
              "2012    Male  0.64             0              0  Children          Rural   \n",
              "2358    Male  0.88             0              0  Children          Urban   \n",
              "2481    Male  0.88             0              0  Children          Urban   \n",
              "2490    Male  0.88             0              0  Children          Urban   \n",
              "2579    Male  0.32             0              0  Children          Urban   \n",
              "2630  Female  0.80             0              0  Children          Urban   \n",
              "2801    Male  0.80             0              0  Children          Urban   \n",
              "2875    Male  0.64             0              0  Children          Urban   \n",
              "2898    Male  0.24             0              0  Children          Urban   \n",
              "3251    Male  0.56             0              0  Children          Rural   \n",
              "3295    Male  0.08             0              0  Children          Rural   \n",
              "3392    Male  0.24             0              0  Children          Urban   \n",
              "3440    Male  0.56             0              0  Children          Urban   \n",
              "3618    Male  0.16             0              0  Children          Urban   \n",
              "3626    Male  0.80             0              0  Children          Rural   \n",
              "3859    Male  0.32             0              0  Children          Urban   \n",
              "3894  Female  0.56             0              0  Children          Urban   \n",
              "3968    Male  0.16             0              0  Children          Rural   \n",
              "4007    Male  0.72             0              0  Children          Rural   \n",
              "4021    Male  0.16             0              0  Children          Urban   \n",
              "4053  Female  0.48             0              0  Children          Rural   \n",
              "4293    Male  0.24             0              0  Children          Urban   \n",
              "4409  Female  0.72             0              0  Children          Rural   \n",
              "4581  Female  0.40             0              0  Children          Rural   \n",
              "4645  Female  0.48             0              0  Children          Rural   \n",
              "4910  Female  0.32             0              0  Children          Urban   \n",
              "4929    Male  0.72             0              0  Children          Urban   \n",
              "5089  Female  0.72             0              0  Children          Rural   \n",
              "\n",
              "      avg_glucose_level   bmi smoking_status  stroke  \n",
              "363               83.82  24.9        Unknown       0  \n",
              "376               88.11  15.5        Unknown       0  \n",
              "564               73.71  16.2        Unknown       0  \n",
              "982              157.57  19.2        Unknown       0  \n",
              "996              118.87  16.3        Unknown       0  \n",
              "1093              55.86  16.0        Unknown       0  \n",
              "1206              66.36  23.0        Unknown       0  \n",
              "1317              98.67  17.5        Unknown       0  \n",
              "1600             109.56  14.3        Unknown       0  \n",
              "1614             139.67  14.1        Unknown       0  \n",
              "1808              62.27  17.3        Unknown       0  \n",
              "1975             111.77  21.1        Unknown       0  \n",
              "1999             146.97  18.5        Unknown       0  \n",
              "2008              57.02  20.7        Unknown       0  \n",
              "2012              86.74  16.2        Unknown       0  \n",
              "2358             112.19  18.9        Unknown       0  \n",
              "2481              90.62  22.4        Unknown       0  \n",
              "2490              85.38  23.4        Unknown       0  \n",
              "2579             127.78  20.8        Unknown       0  \n",
              "2630             106.59  15.5        Unknown       0  \n",
              "2801              75.22  33.1        Unknown       0  \n",
              "2875              60.40  17.3        Unknown       0  \n",
              "2898              58.35  18.6        Unknown       0  \n",
              "3251             127.23  20.1        Unknown       0  \n",
              "3295              70.33  16.9        Unknown       0  \n",
              "3392              89.28  14.2        Unknown       0  \n",
              "3440              98.23  14.1        Unknown       0  \n",
              "3618             114.71  17.4        Unknown       0  \n",
              "3626             114.54  15.1        Unknown       0  \n",
              "3859              89.04  17.8        Unknown       0  \n",
              "3894              80.92  18.3        Unknown       0  \n",
              "3968              69.79  13.0        Unknown       0  \n",
              "4007             159.79  19.9        Unknown       0  \n",
              "4021             109.52  13.9        Unknown       0  \n",
              "4053             118.75  17.4        Unknown       0  \n",
              "4293              57.09  19.4        Unknown       0  \n",
              "4409             112.19  20.1        Unknown       0  \n",
              "4581              85.65  17.4        Unknown       0  \n",
              "4645              94.06  14.8        Unknown       0  \n",
              "4910             108.63  19.6        Unknown       0  \n",
              "4929              80.08  16.4        Unknown       0  \n",
              "5089              62.13  16.8        Unknown       0  "
            ],
            "text/html": [
              "\n",
              "  <div id=\"df-7afada20-97ab-47e8-914f-4e7e9374a677\">\n",
              "    <div class=\"colab-df-container\">\n",
              "      <div>\n",
              "<style scoped>\n",
              "    .dataframe tbody tr th:only-of-type {\n",
              "        vertical-align: middle;\n",
              "    }\n",
              "\n",
              "    .dataframe tbody tr th {\n",
              "        vertical-align: top;\n",
              "    }\n",
              "\n",
              "    .dataframe thead th {\n",
              "        text-align: right;\n",
              "    }\n",
              "</style>\n",
              "<table border=\"1\" class=\"dataframe\">\n",
              "  <thead>\n",
              "    <tr style=\"text-align: right;\">\n",
              "      <th></th>\n",
              "      <th>gender</th>\n",
              "      <th>age</th>\n",
              "      <th>hypertension</th>\n",
              "      <th>heart_disease</th>\n",
              "      <th>work_type</th>\n",
              "      <th>residence_type</th>\n",
              "      <th>avg_glucose_level</th>\n",
              "      <th>bmi</th>\n",
              "      <th>smoking_status</th>\n",
              "      <th>stroke</th>\n",
              "    </tr>\n",
              "  </thead>\n",
              "  <tbody>\n",
              "    <tr>\n",
              "      <th>363</th>\n",
              "      <td>Female</td>\n",
              "      <td>0.64</td>\n",
              "      <td>0</td>\n",
              "      <td>0</td>\n",
              "      <td>Children</td>\n",
              "      <td>Urban</td>\n",
              "      <td>83.82</td>\n",
              "      <td>24.9</td>\n",
              "      <td>Unknown</td>\n",
              "      <td>0</td>\n",
              "    </tr>\n",
              "    <tr>\n",
              "      <th>376</th>\n",
              "      <td>Female</td>\n",
              "      <td>0.88</td>\n",
              "      <td>0</td>\n",
              "      <td>0</td>\n",
              "      <td>Children</td>\n",
              "      <td>Rural</td>\n",
              "      <td>88.11</td>\n",
              "      <td>15.5</td>\n",
              "      <td>Unknown</td>\n",
              "      <td>0</td>\n",
              "    </tr>\n",
              "    <tr>\n",
              "      <th>564</th>\n",
              "      <td>Female</td>\n",
              "      <td>0.32</td>\n",
              "      <td>0</td>\n",
              "      <td>0</td>\n",
              "      <td>Children</td>\n",
              "      <td>Rural</td>\n",
              "      <td>73.71</td>\n",
              "      <td>16.2</td>\n",
              "      <td>Unknown</td>\n",
              "      <td>0</td>\n",
              "    </tr>\n",
              "    <tr>\n",
              "      <th>982</th>\n",
              "      <td>Male</td>\n",
              "      <td>0.88</td>\n",
              "      <td>0</td>\n",
              "      <td>0</td>\n",
              "      <td>Children</td>\n",
              "      <td>Rural</td>\n",
              "      <td>157.57</td>\n",
              "      <td>19.2</td>\n",
              "      <td>Unknown</td>\n",
              "      <td>0</td>\n",
              "    </tr>\n",
              "    <tr>\n",
              "      <th>996</th>\n",
              "      <td>Male</td>\n",
              "      <td>0.24</td>\n",
              "      <td>0</td>\n",
              "      <td>0</td>\n",
              "      <td>Children</td>\n",
              "      <td>Rural</td>\n",
              "      <td>118.87</td>\n",
              "      <td>16.3</td>\n",
              "      <td>Unknown</td>\n",
              "      <td>0</td>\n",
              "    </tr>\n",
              "    <tr>\n",
              "      <th>1093</th>\n",
              "      <td>Female</td>\n",
              "      <td>0.32</td>\n",
              "      <td>0</td>\n",
              "      <td>0</td>\n",
              "      <td>Children</td>\n",
              "      <td>Rural</td>\n",
              "      <td>55.86</td>\n",
              "      <td>16.0</td>\n",
              "      <td>Unknown</td>\n",
              "      <td>0</td>\n",
              "    </tr>\n",
              "    <tr>\n",
              "      <th>1206</th>\n",
              "      <td>Female</td>\n",
              "      <td>0.72</td>\n",
              "      <td>0</td>\n",
              "      <td>0</td>\n",
              "      <td>Children</td>\n",
              "      <td>Urban</td>\n",
              "      <td>66.36</td>\n",
              "      <td>23.0</td>\n",
              "      <td>Unknown</td>\n",
              "      <td>0</td>\n",
              "    </tr>\n",
              "    <tr>\n",
              "      <th>1317</th>\n",
              "      <td>Male</td>\n",
              "      <td>0.80</td>\n",
              "      <td>0</td>\n",
              "      <td>0</td>\n",
              "      <td>Children</td>\n",
              "      <td>Rural</td>\n",
              "      <td>98.67</td>\n",
              "      <td>17.5</td>\n",
              "      <td>Unknown</td>\n",
              "      <td>0</td>\n",
              "    </tr>\n",
              "    <tr>\n",
              "      <th>1600</th>\n",
              "      <td>Male</td>\n",
              "      <td>0.40</td>\n",
              "      <td>0</td>\n",
              "      <td>0</td>\n",
              "      <td>Children</td>\n",
              "      <td>Urban</td>\n",
              "      <td>109.56</td>\n",
              "      <td>14.3</td>\n",
              "      <td>Unknown</td>\n",
              "      <td>0</td>\n",
              "    </tr>\n",
              "    <tr>\n",
              "      <th>1614</th>\n",
              "      <td>Female</td>\n",
              "      <td>0.08</td>\n",
              "      <td>0</td>\n",
              "      <td>0</td>\n",
              "      <td>Children</td>\n",
              "      <td>Urban</td>\n",
              "      <td>139.67</td>\n",
              "      <td>14.1</td>\n",
              "      <td>Unknown</td>\n",
              "      <td>0</td>\n",
              "    </tr>\n",
              "    <tr>\n",
              "      <th>1808</th>\n",
              "      <td>Female</td>\n",
              "      <td>0.64</td>\n",
              "      <td>0</td>\n",
              "      <td>0</td>\n",
              "      <td>Children</td>\n",
              "      <td>Urban</td>\n",
              "      <td>62.27</td>\n",
              "      <td>17.3</td>\n",
              "      <td>Unknown</td>\n",
              "      <td>0</td>\n",
              "    </tr>\n",
              "    <tr>\n",
              "      <th>1975</th>\n",
              "      <td>Male</td>\n",
              "      <td>0.56</td>\n",
              "      <td>0</td>\n",
              "      <td>0</td>\n",
              "      <td>Children</td>\n",
              "      <td>Rural</td>\n",
              "      <td>111.77</td>\n",
              "      <td>21.1</td>\n",
              "      <td>Unknown</td>\n",
              "      <td>0</td>\n",
              "    </tr>\n",
              "    <tr>\n",
              "      <th>1999</th>\n",
              "      <td>Male</td>\n",
              "      <td>0.24</td>\n",
              "      <td>0</td>\n",
              "      <td>0</td>\n",
              "      <td>Children</td>\n",
              "      <td>Rural</td>\n",
              "      <td>146.97</td>\n",
              "      <td>18.5</td>\n",
              "      <td>Unknown</td>\n",
              "      <td>0</td>\n",
              "    </tr>\n",
              "    <tr>\n",
              "      <th>2008</th>\n",
              "      <td>Male</td>\n",
              "      <td>0.56</td>\n",
              "      <td>0</td>\n",
              "      <td>0</td>\n",
              "      <td>Children</td>\n",
              "      <td>Rural</td>\n",
              "      <td>57.02</td>\n",
              "      <td>20.7</td>\n",
              "      <td>Unknown</td>\n",
              "      <td>0</td>\n",
              "    </tr>\n",
              "    <tr>\n",
              "      <th>2012</th>\n",
              "      <td>Male</td>\n",
              "      <td>0.64</td>\n",
              "      <td>0</td>\n",
              "      <td>0</td>\n",
              "      <td>Children</td>\n",
              "      <td>Rural</td>\n",
              "      <td>86.74</td>\n",
              "      <td>16.2</td>\n",
              "      <td>Unknown</td>\n",
              "      <td>0</td>\n",
              "    </tr>\n",
              "    <tr>\n",
              "      <th>2358</th>\n",
              "      <td>Male</td>\n",
              "      <td>0.88</td>\n",
              "      <td>0</td>\n",
              "      <td>0</td>\n",
              "      <td>Children</td>\n",
              "      <td>Urban</td>\n",
              "      <td>112.19</td>\n",
              "      <td>18.9</td>\n",
              "      <td>Unknown</td>\n",
              "      <td>0</td>\n",
              "    </tr>\n",
              "    <tr>\n",
              "      <th>2481</th>\n",
              "      <td>Male</td>\n",
              "      <td>0.88</td>\n",
              "      <td>0</td>\n",
              "      <td>0</td>\n",
              "      <td>Children</td>\n",
              "      <td>Urban</td>\n",
              "      <td>90.62</td>\n",
              "      <td>22.4</td>\n",
              "      <td>Unknown</td>\n",
              "      <td>0</td>\n",
              "    </tr>\n",
              "    <tr>\n",
              "      <th>2490</th>\n",
              "      <td>Male</td>\n",
              "      <td>0.88</td>\n",
              "      <td>0</td>\n",
              "      <td>0</td>\n",
              "      <td>Children</td>\n",
              "      <td>Urban</td>\n",
              "      <td>85.38</td>\n",
              "      <td>23.4</td>\n",
              "      <td>Unknown</td>\n",
              "      <td>0</td>\n",
              "    </tr>\n",
              "    <tr>\n",
              "      <th>2579</th>\n",
              "      <td>Male</td>\n",
              "      <td>0.32</td>\n",
              "      <td>0</td>\n",
              "      <td>0</td>\n",
              "      <td>Children</td>\n",
              "      <td>Urban</td>\n",
              "      <td>127.78</td>\n",
              "      <td>20.8</td>\n",
              "      <td>Unknown</td>\n",
              "      <td>0</td>\n",
              "    </tr>\n",
              "    <tr>\n",
              "      <th>2630</th>\n",
              "      <td>Female</td>\n",
              "      <td>0.80</td>\n",
              "      <td>0</td>\n",
              "      <td>0</td>\n",
              "      <td>Children</td>\n",
              "      <td>Urban</td>\n",
              "      <td>106.59</td>\n",
              "      <td>15.5</td>\n",
              "      <td>Unknown</td>\n",
              "      <td>0</td>\n",
              "    </tr>\n",
              "    <tr>\n",
              "      <th>2801</th>\n",
              "      <td>Male</td>\n",
              "      <td>0.80</td>\n",
              "      <td>0</td>\n",
              "      <td>0</td>\n",
              "      <td>Children</td>\n",
              "      <td>Urban</td>\n",
              "      <td>75.22</td>\n",
              "      <td>33.1</td>\n",
              "      <td>Unknown</td>\n",
              "      <td>0</td>\n",
              "    </tr>\n",
              "    <tr>\n",
              "      <th>2875</th>\n",
              "      <td>Male</td>\n",
              "      <td>0.64</td>\n",
              "      <td>0</td>\n",
              "      <td>0</td>\n",
              "      <td>Children</td>\n",
              "      <td>Urban</td>\n",
              "      <td>60.40</td>\n",
              "      <td>17.3</td>\n",
              "      <td>Unknown</td>\n",
              "      <td>0</td>\n",
              "    </tr>\n",
              "    <tr>\n",
              "      <th>2898</th>\n",
              "      <td>Male</td>\n",
              "      <td>0.24</td>\n",
              "      <td>0</td>\n",
              "      <td>0</td>\n",
              "      <td>Children</td>\n",
              "      <td>Urban</td>\n",
              "      <td>58.35</td>\n",
              "      <td>18.6</td>\n",
              "      <td>Unknown</td>\n",
              "      <td>0</td>\n",
              "    </tr>\n",
              "    <tr>\n",
              "      <th>3251</th>\n",
              "      <td>Male</td>\n",
              "      <td>0.56</td>\n",
              "      <td>0</td>\n",
              "      <td>0</td>\n",
              "      <td>Children</td>\n",
              "      <td>Rural</td>\n",
              "      <td>127.23</td>\n",
              "      <td>20.1</td>\n",
              "      <td>Unknown</td>\n",
              "      <td>0</td>\n",
              "    </tr>\n",
              "    <tr>\n",
              "      <th>3295</th>\n",
              "      <td>Male</td>\n",
              "      <td>0.08</td>\n",
              "      <td>0</td>\n",
              "      <td>0</td>\n",
              "      <td>Children</td>\n",
              "      <td>Rural</td>\n",
              "      <td>70.33</td>\n",
              "      <td>16.9</td>\n",
              "      <td>Unknown</td>\n",
              "      <td>0</td>\n",
              "    </tr>\n",
              "    <tr>\n",
              "      <th>3392</th>\n",
              "      <td>Male</td>\n",
              "      <td>0.24</td>\n",
              "      <td>0</td>\n",
              "      <td>0</td>\n",
              "      <td>Children</td>\n",
              "      <td>Urban</td>\n",
              "      <td>89.28</td>\n",
              "      <td>14.2</td>\n",
              "      <td>Unknown</td>\n",
              "      <td>0</td>\n",
              "    </tr>\n",
              "    <tr>\n",
              "      <th>3440</th>\n",
              "      <td>Male</td>\n",
              "      <td>0.56</td>\n",
              "      <td>0</td>\n",
              "      <td>0</td>\n",
              "      <td>Children</td>\n",
              "      <td>Urban</td>\n",
              "      <td>98.23</td>\n",
              "      <td>14.1</td>\n",
              "      <td>Unknown</td>\n",
              "      <td>0</td>\n",
              "    </tr>\n",
              "    <tr>\n",
              "      <th>3618</th>\n",
              "      <td>Male</td>\n",
              "      <td>0.16</td>\n",
              "      <td>0</td>\n",
              "      <td>0</td>\n",
              "      <td>Children</td>\n",
              "      <td>Urban</td>\n",
              "      <td>114.71</td>\n",
              "      <td>17.4</td>\n",
              "      <td>Unknown</td>\n",
              "      <td>0</td>\n",
              "    </tr>\n",
              "    <tr>\n",
              "      <th>3626</th>\n",
              "      <td>Male</td>\n",
              "      <td>0.80</td>\n",
              "      <td>0</td>\n",
              "      <td>0</td>\n",
              "      <td>Children</td>\n",
              "      <td>Rural</td>\n",
              "      <td>114.54</td>\n",
              "      <td>15.1</td>\n",
              "      <td>Unknown</td>\n",
              "      <td>0</td>\n",
              "    </tr>\n",
              "    <tr>\n",
              "      <th>3859</th>\n",
              "      <td>Male</td>\n",
              "      <td>0.32</td>\n",
              "      <td>0</td>\n",
              "      <td>0</td>\n",
              "      <td>Children</td>\n",
              "      <td>Urban</td>\n",
              "      <td>89.04</td>\n",
              "      <td>17.8</td>\n",
              "      <td>Unknown</td>\n",
              "      <td>0</td>\n",
              "    </tr>\n",
              "    <tr>\n",
              "      <th>3894</th>\n",
              "      <td>Female</td>\n",
              "      <td>0.56</td>\n",
              "      <td>0</td>\n",
              "      <td>0</td>\n",
              "      <td>Children</td>\n",
              "      <td>Urban</td>\n",
              "      <td>80.92</td>\n",
              "      <td>18.3</td>\n",
              "      <td>Unknown</td>\n",
              "      <td>0</td>\n",
              "    </tr>\n",
              "    <tr>\n",
              "      <th>3968</th>\n",
              "      <td>Male</td>\n",
              "      <td>0.16</td>\n",
              "      <td>0</td>\n",
              "      <td>0</td>\n",
              "      <td>Children</td>\n",
              "      <td>Rural</td>\n",
              "      <td>69.79</td>\n",
              "      <td>13.0</td>\n",
              "      <td>Unknown</td>\n",
              "      <td>0</td>\n",
              "    </tr>\n",
              "    <tr>\n",
              "      <th>4007</th>\n",
              "      <td>Male</td>\n",
              "      <td>0.72</td>\n",
              "      <td>0</td>\n",
              "      <td>0</td>\n",
              "      <td>Children</td>\n",
              "      <td>Rural</td>\n",
              "      <td>159.79</td>\n",
              "      <td>19.9</td>\n",
              "      <td>Unknown</td>\n",
              "      <td>0</td>\n",
              "    </tr>\n",
              "    <tr>\n",
              "      <th>4021</th>\n",
              "      <td>Male</td>\n",
              "      <td>0.16</td>\n",
              "      <td>0</td>\n",
              "      <td>0</td>\n",
              "      <td>Children</td>\n",
              "      <td>Urban</td>\n",
              "      <td>109.52</td>\n",
              "      <td>13.9</td>\n",
              "      <td>Unknown</td>\n",
              "      <td>0</td>\n",
              "    </tr>\n",
              "    <tr>\n",
              "      <th>4053</th>\n",
              "      <td>Female</td>\n",
              "      <td>0.48</td>\n",
              "      <td>0</td>\n",
              "      <td>0</td>\n",
              "      <td>Children</td>\n",
              "      <td>Rural</td>\n",
              "      <td>118.75</td>\n",
              "      <td>17.4</td>\n",
              "      <td>Unknown</td>\n",
              "      <td>0</td>\n",
              "    </tr>\n",
              "    <tr>\n",
              "      <th>4293</th>\n",
              "      <td>Male</td>\n",
              "      <td>0.24</td>\n",
              "      <td>0</td>\n",
              "      <td>0</td>\n",
              "      <td>Children</td>\n",
              "      <td>Urban</td>\n",
              "      <td>57.09</td>\n",
              "      <td>19.4</td>\n",
              "      <td>Unknown</td>\n",
              "      <td>0</td>\n",
              "    </tr>\n",
              "    <tr>\n",
              "      <th>4409</th>\n",
              "      <td>Female</td>\n",
              "      <td>0.72</td>\n",
              "      <td>0</td>\n",
              "      <td>0</td>\n",
              "      <td>Children</td>\n",
              "      <td>Rural</td>\n",
              "      <td>112.19</td>\n",
              "      <td>20.1</td>\n",
              "      <td>Unknown</td>\n",
              "      <td>0</td>\n",
              "    </tr>\n",
              "    <tr>\n",
              "      <th>4581</th>\n",
              "      <td>Female</td>\n",
              "      <td>0.40</td>\n",
              "      <td>0</td>\n",
              "      <td>0</td>\n",
              "      <td>Children</td>\n",
              "      <td>Rural</td>\n",
              "      <td>85.65</td>\n",
              "      <td>17.4</td>\n",
              "      <td>Unknown</td>\n",
              "      <td>0</td>\n",
              "    </tr>\n",
              "    <tr>\n",
              "      <th>4645</th>\n",
              "      <td>Female</td>\n",
              "      <td>0.48</td>\n",
              "      <td>0</td>\n",
              "      <td>0</td>\n",
              "      <td>Children</td>\n",
              "      <td>Rural</td>\n",
              "      <td>94.06</td>\n",
              "      <td>14.8</td>\n",
              "      <td>Unknown</td>\n",
              "      <td>0</td>\n",
              "    </tr>\n",
              "    <tr>\n",
              "      <th>4910</th>\n",
              "      <td>Female</td>\n",
              "      <td>0.32</td>\n",
              "      <td>0</td>\n",
              "      <td>0</td>\n",
              "      <td>Children</td>\n",
              "      <td>Urban</td>\n",
              "      <td>108.63</td>\n",
              "      <td>19.6</td>\n",
              "      <td>Unknown</td>\n",
              "      <td>0</td>\n",
              "    </tr>\n",
              "    <tr>\n",
              "      <th>4929</th>\n",
              "      <td>Male</td>\n",
              "      <td>0.72</td>\n",
              "      <td>0</td>\n",
              "      <td>0</td>\n",
              "      <td>Children</td>\n",
              "      <td>Urban</td>\n",
              "      <td>80.08</td>\n",
              "      <td>16.4</td>\n",
              "      <td>Unknown</td>\n",
              "      <td>0</td>\n",
              "    </tr>\n",
              "    <tr>\n",
              "      <th>5089</th>\n",
              "      <td>Female</td>\n",
              "      <td>0.72</td>\n",
              "      <td>0</td>\n",
              "      <td>0</td>\n",
              "      <td>Children</td>\n",
              "      <td>Rural</td>\n",
              "      <td>62.13</td>\n",
              "      <td>16.8</td>\n",
              "      <td>Unknown</td>\n",
              "      <td>0</td>\n",
              "    </tr>\n",
              "  </tbody>\n",
              "</table>\n",
              "</div>\n",
              "      <button class=\"colab-df-convert\" onclick=\"convertToInteractive('df-7afada20-97ab-47e8-914f-4e7e9374a677')\"\n",
              "              title=\"Convert this dataframe to an interactive table.\"\n",
              "              style=\"display:none;\">\n",
              "        \n",
              "  <svg xmlns=\"http://www.w3.org/2000/svg\" height=\"24px\"viewBox=\"0 0 24 24\"\n",
              "       width=\"24px\">\n",
              "    <path d=\"M0 0h24v24H0V0z\" fill=\"none\"/>\n",
              "    <path d=\"M18.56 5.44l.94 2.06.94-2.06 2.06-.94-2.06-.94-.94-2.06-.94 2.06-2.06.94zm-11 1L8.5 8.5l.94-2.06 2.06-.94-2.06-.94L8.5 2.5l-.94 2.06-2.06.94zm10 10l.94 2.06.94-2.06 2.06-.94-2.06-.94-.94-2.06-.94 2.06-2.06.94z\"/><path d=\"M17.41 7.96l-1.37-1.37c-.4-.4-.92-.59-1.43-.59-.52 0-1.04.2-1.43.59L10.3 9.45l-7.72 7.72c-.78.78-.78 2.05 0 2.83L4 21.41c.39.39.9.59 1.41.59.51 0 1.02-.2 1.41-.59l7.78-7.78 2.81-2.81c.8-.78.8-2.07 0-2.86zM5.41 20L4 18.59l7.72-7.72 1.47 1.35L5.41 20z\"/>\n",
              "  </svg>\n",
              "      </button>\n",
              "      \n",
              "  <style>\n",
              "    .colab-df-container {\n",
              "      display:flex;\n",
              "      flex-wrap:wrap;\n",
              "      gap: 12px;\n",
              "    }\n",
              "\n",
              "    .colab-df-convert {\n",
              "      background-color: #E8F0FE;\n",
              "      border: none;\n",
              "      border-radius: 50%;\n",
              "      cursor: pointer;\n",
              "      display: none;\n",
              "      fill: #1967D2;\n",
              "      height: 32px;\n",
              "      padding: 0 0 0 0;\n",
              "      width: 32px;\n",
              "    }\n",
              "\n",
              "    .colab-df-convert:hover {\n",
              "      background-color: #E2EBFA;\n",
              "      box-shadow: 0px 1px 2px rgba(60, 64, 67, 0.3), 0px 1px 3px 1px rgba(60, 64, 67, 0.15);\n",
              "      fill: #174EA6;\n",
              "    }\n",
              "\n",
              "    [theme=dark] .colab-df-convert {\n",
              "      background-color: #3B4455;\n",
              "      fill: #D2E3FC;\n",
              "    }\n",
              "\n",
              "    [theme=dark] .colab-df-convert:hover {\n",
              "      background-color: #434B5C;\n",
              "      box-shadow: 0px 1px 3px 1px rgba(0, 0, 0, 0.15);\n",
              "      filter: drop-shadow(0px 1px 2px rgba(0, 0, 0, 0.3));\n",
              "      fill: #FFFFFF;\n",
              "    }\n",
              "  </style>\n",
              "\n",
              "      <script>\n",
              "        const buttonEl =\n",
              "          document.querySelector('#df-7afada20-97ab-47e8-914f-4e7e9374a677 button.colab-df-convert');\n",
              "        buttonEl.style.display =\n",
              "          google.colab.kernel.accessAllowed ? 'block' : 'none';\n",
              "\n",
              "        async function convertToInteractive(key) {\n",
              "          const element = document.querySelector('#df-7afada20-97ab-47e8-914f-4e7e9374a677');\n",
              "          const dataTable =\n",
              "            await google.colab.kernel.invokeFunction('convertToInteractive',\n",
              "                                                     [key], {});\n",
              "          if (!dataTable) return;\n",
              "\n",
              "          const docLinkHtml = 'Like what you see? Visit the ' +\n",
              "            '<a target=\"_blank\" href=https://colab.research.google.com/notebooks/data_table.ipynb>data table notebook</a>'\n",
              "            + ' to learn more about interactive tables.';\n",
              "          element.innerHTML = '';\n",
              "          dataTable['output_type'] = 'display_data';\n",
              "          await google.colab.output.renderOutput(dataTable, element);\n",
              "          const docLink = document.createElement('div');\n",
              "          docLink.innerHTML = docLinkHtml;\n",
              "          element.appendChild(docLink);\n",
              "        }\n",
              "      </script>\n",
              "    </div>\n",
              "  </div>\n",
              "  "
            ]
          },
          "metadata": {},
          "execution_count": 20
        }
      ]
    },
    {
      "cell_type": "code",
      "source": [
        "df.loc[df['age'] < 1].value_counts().sum()"
      ],
      "metadata": {
        "colab": {
          "base_uri": "https://localhost:8080/"
        },
        "id": "FHKyaCQgYY57",
        "outputId": "0d347ac0-a2f9-4e11-cfa0-b7d29fc187c3"
      },
      "execution_count": 21,
      "outputs": [
        {
          "output_type": "execute_result",
          "data": {
            "text/plain": [
              "42"
            ]
          },
          "metadata": {},
          "execution_count": 21
        }
      ]
    },
    {
      "cell_type": "code",
      "source": [
        "df.shape"
      ],
      "metadata": {
        "colab": {
          "base_uri": "https://localhost:8080/"
        },
        "id": "Cc4a-KqaYe_0",
        "outputId": "c1cc05f1-9e31-4a76-d222-f5df15f39c57"
      },
      "execution_count": 22,
      "outputs": [
        {
          "output_type": "execute_result",
          "data": {
            "text/plain": [
              "(4909, 10)"
            ]
          },
          "metadata": {},
          "execution_count": 22
        }
      ]
    },
    {
      "cell_type": "code",
      "source": [
        "42/4909"
      ],
      "metadata": {
        "colab": {
          "base_uri": "https://localhost:8080/"
        },
        "id": "JOSO1-8MYcN_",
        "outputId": "84143e22-62a5-46c1-f282-fef18cc7a6b8"
      },
      "execution_count": 23,
      "outputs": [
        {
          "output_type": "execute_result",
          "data": {
            "text/plain": [
              "0.008555713994703605"
            ]
          },
          "metadata": {},
          "execution_count": 23
        }
      ]
    },
    {
      "cell_type": "markdown",
      "source": [
        ">There are 42 rows out of 4909 with ages under 1. Though these values account for less than 1% of data, I will not drop all data. I will instead round the values to the nearest integer and drop any infants whose ages are 0.\n",
        "\n",
        ">I do not believe that keeping or dropping the data of infants will significantly affect stroke predictions, but I will opt to keep as much data as possible while dropping seemingly unnecessary data."
      ],
      "metadata": {
        "id": "F_mTRSSnUYKz"
      }
    },
    {
      "cell_type": "code",
      "source": [
        "df['age'] = df['age'].round()"
      ],
      "metadata": {
        "id": "IhrXBMjKWP1T"
      },
      "execution_count": 24,
      "outputs": []
    },
    {
      "cell_type": "code",
      "source": [
        "df.loc[df['age'] == 0].value_counts().sum()"
      ],
      "metadata": {
        "colab": {
          "base_uri": "https://localhost:8080/"
        },
        "id": "giC2QVAhZhk-",
        "outputId": "150c64af-b18f-4540-9c9d-aebb3d8beeae"
      },
      "execution_count": 25,
      "outputs": [
        {
          "output_type": "execute_result",
          "data": {
            "text/plain": [
              "19"
            ]
          },
          "metadata": {},
          "execution_count": 25
        }
      ]
    },
    {
      "cell_type": "code",
      "source": [
        "19/4909"
      ],
      "metadata": {
        "colab": {
          "base_uri": "https://localhost:8080/"
        },
        "id": "SKfyVHbWZ-_n",
        "outputId": "0c28e1a7-a181-45c8-8f18-e2ac13e74d0a"
      },
      "execution_count": 26,
      "outputs": [
        {
          "output_type": "execute_result",
          "data": {
            "text/plain": [
              "0.0038704420452230597"
            ]
          },
          "metadata": {},
          "execution_count": 26
        }
      ]
    },
    {
      "cell_type": "markdown",
      "source": [
        ">There are now 19 rows of data with ages of 0. This amount of data accounts for roughly 0.04 percent of the whole, and therefore is a negligible amount to drop in addition to the dropped rows with null data."
      ],
      "metadata": {
        "id": "asy6YwcCaFk7"
      }
    },
    {
      "cell_type": "code",
      "source": [
        "df = df[df.age != 0]\n",
        "df.loc[df['age'] == 0].value_counts().sum()"
      ],
      "metadata": {
        "colab": {
          "base_uri": "https://localhost:8080/"
        },
        "id": "bRvOgGhgbXDY",
        "outputId": "65ffc035-4f60-4be4-e4cb-13170210f52a"
      },
      "execution_count": 27,
      "outputs": [
        {
          "output_type": "execute_result",
          "data": {
            "text/plain": [
              "0"
            ]
          },
          "metadata": {},
          "execution_count": 27
        }
      ]
    },
    {
      "cell_type": "markdown",
      "source": [
        ">I will now turn the 'age' data type from float to integer to keep simple, consistent, and possible values for age."
      ],
      "metadata": {
        "id": "YF0zQfG5bvl8"
      }
    },
    {
      "cell_type": "code",
      "source": [
        "df['age'] = df['age'].astype(int)\n",
        "df.info()"
      ],
      "metadata": {
        "colab": {
          "base_uri": "https://localhost:8080/"
        },
        "id": "S2bkJGyicNr0",
        "outputId": "af8d4e8e-5c20-493b-f401-7ce38f1a3040"
      },
      "execution_count": 28,
      "outputs": [
        {
          "output_type": "stream",
          "name": "stdout",
          "text": [
            "<class 'pandas.core.frame.DataFrame'>\n",
            "Int64Index: 4890 entries, 0 to 5109\n",
            "Data columns (total 10 columns):\n",
            " #   Column             Non-Null Count  Dtype  \n",
            "---  ------             --------------  -----  \n",
            " 0   gender             4890 non-null   object \n",
            " 1   age                4890 non-null   int64  \n",
            " 2   hypertension       4890 non-null   int64  \n",
            " 3   heart_disease      4890 non-null   int64  \n",
            " 4   work_type          4890 non-null   object \n",
            " 5   residence_type     4890 non-null   object \n",
            " 6   avg_glucose_level  4890 non-null   float64\n",
            " 7   bmi                4890 non-null   float64\n",
            " 8   smoking_status     4890 non-null   object \n",
            " 9   stroke             4890 non-null   int64  \n",
            "dtypes: float64(2), int64(4), object(4)\n",
            "memory usage: 420.2+ KB\n"
          ]
        }
      ]
    },
    {
      "cell_type": "code",
      "source": [
        "4890/5110"
      ],
      "metadata": {
        "colab": {
          "base_uri": "https://localhost:8080/"
        },
        "id": "Q9wCSpUdcVzU",
        "outputId": "46a05af5-a4fe-418a-b2f7-f155dc2e69e9"
      },
      "execution_count": 29,
      "outputs": [
        {
          "output_type": "execute_result",
          "data": {
            "text/plain": [
              "0.9569471624266145"
            ]
          },
          "metadata": {},
          "execution_count": 29
        }
      ]
    },
    {
      "cell_type": "markdown",
      "source": [
        "- After cleaning data, we have retained 95.7% of our original data. Values are consistent and possible."
      ],
      "metadata": {
        "id": "GQ5kHbiNcbaY"
      }
    },
    {
      "cell_type": "markdown",
      "source": [
        "#Visual Exploration"
      ],
      "metadata": {
        "id": "skNBIsFrtwWG"
      }
    },
    {
      "cell_type": "code",
      "source": [
        "import matplotlib.pyplot as plt\n",
        "import seaborn as sns"
      ],
      "metadata": {
        "id": "QcepEIuKtIGp"
      },
      "execution_count": 30,
      "outputs": []
    },
    {
      "cell_type": "code",
      "source": [
        "corr = df.corr()\n",
        "plt.figure(figsize = (8,8))\n",
        "sns.heatmap(corr, annot = True);"
      ],
      "metadata": {
        "colab": {
          "base_uri": "https://localhost:8080/",
          "height": 568
        },
        "id": "zKErOuFVuNNV",
        "outputId": "c4c3ad26-e188-4084-ced4-acf030bf3d68"
      },
      "execution_count": 31,
      "outputs": [
        {
          "output_type": "display_data",
          "data": {
            "text/plain": [
              "<Figure size 576x576 with 2 Axes>"
            ],
            "image/png": "[encoded data removed]"
          },
          "metadata": {
            "needs_background": "light"
          }
        }
      ]
    },
    {
      "cell_type": "markdown",
      "source": [
        "- There is a low correlation between BMI and age\n",
        "- All other correlations are negligible"
      ],
      "metadata": {
        "id": "1HDn9XCBu1ki"
      }
    },
    {
      "cell_type": "code",
      "source": [
        "df.info()"
      ],
      "metadata": {
        "colab": {
          "base_uri": "https://localhost:8080/"
        },
        "id": "APJh0vtEevKH",
        "outputId": "89c4ef45-fb63-43f5-a634-2fa4f8b18dee"
      },
      "execution_count": 32,
      "outputs": [
        {
          "output_type": "stream",
          "name": "stdout",
          "text": [
            "<class 'pandas.core.frame.DataFrame'>\n",
            "Int64Index: 4890 entries, 0 to 5109\n",
            "Data columns (total 10 columns):\n",
            " #   Column             Non-Null Count  Dtype  \n",
            "---  ------             --------------  -----  \n",
            " 0   gender             4890 non-null   object \n",
            " 1   age                4890 non-null   int64  \n",
            " 2   hypertension       4890 non-null   int64  \n",
            " 3   heart_disease      4890 non-null   int64  \n",
            " 4   work_type          4890 non-null   object \n",
            " 5   residence_type     4890 non-null   object \n",
            " 6   avg_glucose_level  4890 non-null   float64\n",
            " 7   bmi                4890 non-null   float64\n",
            " 8   smoking_status     4890 non-null   object \n",
            " 9   stroke             4890 non-null   int64  \n",
            "dtypes: float64(2), int64(4), object(4)\n",
            "memory usage: 420.2+ KB\n"
          ]
        }
      ]
    },
    {
      "cell_type": "markdown",
      "source": [
        "##Age"
      ],
      "metadata": {
        "id": "XLhKN6spx8_P"
      }
    },
    {
      "cell_type": "code",
      "source": [
        "sns.set(style = 'darkgrid')\n",
        "sns.histplot(data = df, x = 'age', color = 'red')\n",
        "plt.xlabel('Age');"
      ],
      "metadata": {
        "colab": {
          "base_uri": "https://localhost:8080/",
          "height": 285
        },
        "id": "zR4AmFwGuTJZ",
        "outputId": "73c3336c-b51f-41ff-e09b-4f70a8187c38"
      },
      "execution_count": 33,
      "outputs": [
        {
          "output_type": "display_data",
          "data": {
            "text/plain": [
              "<Figure size 432x288 with 1 Axes>"
            ],
            "image/png": "[encoded data removed]"
          },
          "metadata": {}
        }
      ]
    },
    {
      "cell_type": "code",
      "source": [
        "df['age'].describe()"
      ],
      "metadata": {
        "colab": {
          "base_uri": "https://localhost:8080/"
        },
        "id": "9UP8K1X0-keo",
        "outputId": "db509d15-49f0-4839-e600-ac8e3e7fd9fa"
      },
      "execution_count": 126,
      "outputs": [
        {
          "output_type": "execute_result",
          "data": {
            "text/plain": [
              "count    4890.000000\n",
              "mean       43.032106\n",
              "std        22.439482\n",
              "min         1.000000\n",
              "25%        25.000000\n",
              "50%        44.000000\n",
              "75%        60.000000\n",
              "max        82.000000\n",
              "Name: age, dtype: float64"
            ]
          },
          "metadata": {},
          "execution_count": 126
        }
      ]
    },
    {
      "cell_type": "markdown",
      "source": [
        "- The ages of persons whose data were collected ranged from 1 to 82.\n",
        "- The average age was 43."
      ],
      "metadata": {
        "id": "97X0CpZz-qH6"
      }
    },
    {
      "cell_type": "markdown",
      "source": [
        "## Gender"
      ],
      "metadata": {
        "id": "SDfBCa5kx_uk"
      }
    },
    {
      "cell_type": "code",
      "source": [
        "sns.histplot(data = df, x = 'gender', color = 'orange')\n",
        "plt.xlabel('Gender');\n",
        "plt.show()\n",
        "print('\\n')\n",
        "print(df['gender'].value_counts())"
      ],
      "metadata": {
        "colab": {
          "base_uri": "https://localhost:8080/",
          "height": 390
        },
        "id": "EGTAq-rOgqk0",
        "outputId": "a5526f14-1372-4b3a-d247-1b8aeb522334"
      },
      "execution_count": 50,
      "outputs": [
        {
          "output_type": "display_data",
          "data": {
            "text/plain": [
              "<Figure size 432x288 with 1 Axes>"
            ],
            "image/png": "[encoded data removed]"
          },
          "metadata": {}
        },
        {
          "output_type": "stream",
          "name": "stdout",
          "text": [
            "\n",
            "\n",
            "Female    2890\n",
            "Male      1999\n",
            "Other        1\n",
            "Name: gender, dtype: int64\n"
          ]
        }
      ]
    },
    {
      "cell_type": "markdown",
      "source": [
        "- More data from females was collected than male.\n",
        "- There was only one person who identified with another gender other than male or female."
      ],
      "metadata": {
        "id": "Zp8d4J50_TKt"
      }
    },
    {
      "cell_type": "markdown",
      "source": [
        "##Hypertension"
      ],
      "metadata": {
        "id": "xKt5sHXQyBrA"
      }
    },
    {
      "cell_type": "code",
      "source": [
        "ax = sns.histplot(data = df, x = 'hypertension', color = 'yellow')\n",
        "ax.set_xticks((0, 1), labels=('No', 'Yes'))\n",
        "plt.xlabel('Hypertension');\n",
        "plt.show()\n",
        "print('\\n')\n",
        "print(df['hypertension'].value_counts())"
      ],
      "metadata": {
        "colab": {
          "base_uri": "https://localhost:8080/",
          "height": 372
        },
        "id": "gvdWkuJVgwl2",
        "outputId": "76cf6fe7-24ad-4b1f-ca8d-a708aa324fe2"
      },
      "execution_count": 51,
      "outputs": [
        {
          "output_type": "display_data",
          "data": {
            "text/plain": [
              "<Figure size 432x288 with 1 Axes>"
            ],
            "image/png": "[encoded data removed]"
          },
          "metadata": {}
        },
        {
          "output_type": "stream",
          "name": "stdout",
          "text": [
            "\n",
            "\n",
            "0    4439\n",
            "1     451\n",
            "Name: hypertension, dtype: int64\n"
          ]
        }
      ]
    },
    {
      "cell_type": "markdown",
      "source": [
        "- The majority of persons did not have hypertension."
      ],
      "metadata": {
        "id": "WlYYBfeq_jXJ"
      }
    },
    {
      "cell_type": "markdown",
      "source": [
        "##Heart Disease"
      ],
      "metadata": {
        "id": "D2-FHu5XyEAm"
      }
    },
    {
      "cell_type": "code",
      "source": [
        "ax2 = sns.histplot(data = df, x = 'heart_disease', color = 'green')\n",
        "ax2.set_xticks((0, 1), labels=('No', 'Yes'))\n",
        "plt.xlabel('Heart Disease');\n",
        "plt.show()\n",
        "print('\\n')\n",
        "print(df['heart_disease'].value_counts())"
      ],
      "metadata": {
        "colab": {
          "base_uri": "https://localhost:8080/",
          "height": 372
        },
        "id": "YPrNL9nOg1ey",
        "outputId": "a9c2de97-f6e6-4029-b144-8feac5f70071"
      },
      "execution_count": 52,
      "outputs": [
        {
          "output_type": "display_data",
          "data": {
            "text/plain": [
              "<Figure size 432x288 with 1 Axes>"
            ],
            "image/png": "[encoded data removed]"
          },
          "metadata": {}
        },
        {
          "output_type": "stream",
          "name": "stdout",
          "text": [
            "\n",
            "\n",
            "0    4647\n",
            "1     243\n",
            "Name: heart_disease, dtype: int64\n"
          ]
        }
      ]
    },
    {
      "cell_type": "markdown",
      "source": [
        "- The majority of persons did not have heart disease."
      ],
      "metadata": {
        "id": "2uMkrf43__v8"
      }
    },
    {
      "cell_type": "markdown",
      "source": [
        "##Work Type"
      ],
      "metadata": {
        "id": "pdX2Sfe_yHPg"
      }
    },
    {
      "cell_type": "code",
      "source": [
        "ax3 = sns.histplot(data = df, x = 'work_type', color = 'blue')\n",
        "ax3.set_xticks([0, 1, 2, 3, 4])\n",
        "ax3.set_xticklabels(['Private', 'Self Employed', \"Gov't Job\", 'Children', 'Never Worked'], rotation = 45)\n",
        "plt.xlabel('Work Type');\n",
        "plt.show()\n",
        "print('\\n')\n",
        "print(df['work_type'].value_counts())"
      ],
      "metadata": {
        "colab": {
          "base_uri": "https://localhost:8080/",
          "height": 477
        },
        "id": "56rqWcPNg5Xi",
        "outputId": "d639ed1f-bd74-4fa0-e2a4-f1aec7f73790"
      },
      "execution_count": 53,
      "outputs": [
        {
          "output_type": "display_data",
          "data": {
            "text/plain": [
              "<Figure size 432x288 with 1 Axes>"
            ],
            "image/png": "[encoded data removed]"
          },
          "metadata": {}
        },
        {
          "output_type": "stream",
          "name": "stdout",
          "text": [
            "\n",
            "\n",
            "Private          2811\n",
            "Self-employed     775\n",
            "Children          652\n",
            "Govt_Job          630\n",
            "Never_Worked       22\n",
            "Name: work_type, dtype: int64\n"
          ]
        }
      ]
    },
    {
      "cell_type": "markdown",
      "source": [
        "- The majority of persons are employed by a private employer.\n",
        "- 652 persons were identified as children."
      ],
      "metadata": {
        "id": "rBHPakbeAPKi"
      }
    },
    {
      "cell_type": "markdown",
      "source": [
        "##Residence Type"
      ],
      "metadata": {
        "id": "CkO1cT38yKPL"
      }
    },
    {
      "cell_type": "code",
      "source": [
        "sns.histplot(data = df, x = 'residence_type', color = 'purple')\n",
        "plt.xlabel('Residence Type');\n",
        "plt.show()\n",
        "print('\\n')\n",
        "print(df['residence_type'].value_counts())"
      ],
      "metadata": {
        "colab": {
          "base_uri": "https://localhost:8080/",
          "height": 372
        },
        "id": "Rg-T6a9Bg9oV",
        "outputId": "b727ee0c-1600-435e-98a8-e13a4ce8d11d"
      },
      "execution_count": 54,
      "outputs": [
        {
          "output_type": "display_data",
          "data": {
            "text/plain": [
              "<Figure size 432x288 with 1 Axes>"
            ],
            "image/png": "[encoded data removed]"
          },
          "metadata": {}
        },
        {
          "output_type": "stream",
          "name": "stdout",
          "text": [
            "\n",
            "\n",
            "Urban    2480\n",
            "Rural    2410\n",
            "Name: residence_type, dtype: int64\n"
          ]
        }
      ]
    },
    {
      "cell_type": "markdown",
      "source": [
        "- The data collected comes from an almost equal spit between rural and urban residences."
      ],
      "metadata": {
        "id": "Mh7mAfuCAfA0"
      }
    },
    {
      "cell_type": "markdown",
      "source": [
        "##Average Glucose Level"
      ],
      "metadata": {
        "id": "h1bB_ZB3yMVX"
      }
    },
    {
      "cell_type": "code",
      "source": [
        "sns.histplot(data = df, x = 'avg_glucose_level', color = 'red')\n",
        "plt.xlabel('Average Glucose Level');"
      ],
      "metadata": {
        "colab": {
          "base_uri": "https://localhost:8080/",
          "height": 285
        },
        "id": "z8ox2s5ohAz_",
        "outputId": "7b9b75a7-230c-458d-9064-b33290039a88"
      },
      "execution_count": 39,
      "outputs": [
        {
          "output_type": "display_data",
          "data": {
            "text/plain": [
              "<Figure size 432x288 with 1 Axes>"
            ],
            "image/png": "[encoded data removed]"
          },
          "metadata": {}
        }
      ]
    },
    {
      "cell_type": "markdown",
      "source": [
        "- The majority of persons had average glucose levels under 120."
      ],
      "metadata": {
        "id": "7Vu24T0LAtTb"
      }
    },
    {
      "cell_type": "code",
      "source": [
        "plt.figure(figsize=(5, 10))\n",
        "sns.boxplot(data = df['avg_glucose_level'], notch = True);\n",
        "plt.show()\n",
        "print('\\n')\n",
        "print(df['avg_glucose_level'].describe())"
      ],
      "metadata": {
        "colab": {
          "base_uri": "https://localhost:8080/",
          "height": 785
        },
        "id": "-UmspGK-zOdu",
        "outputId": "cb8a752a-410b-4115-bce4-e18bcc44d1d9"
      },
      "execution_count": 69,
      "outputs": [
        {
          "output_type": "display_data",
          "data": {
            "text/plain": [
              "<Figure size 360x720 with 1 Axes>"
            ],
            "image/png": "[encoded data removed]"
          },
          "metadata": {}
        },
        {
          "output_type": "stream",
          "name": "stdout",
          "text": [
            "\n",
            "\n",
            "count    4890.000000\n",
            "mean      105.338519\n",
            "std        44.475138\n",
            "min        55.120000\n",
            "25%        77.080000\n",
            "50%        91.680000\n",
            "75%       113.465000\n",
            "max       271.740000\n",
            "Name: avg_glucose_level, dtype: float64\n"
          ]
        }
      ]
    },
    {
      "cell_type": "code",
      "source": [
        "113.465 + 1.5*(113.465 - 77.08)"
      ],
      "metadata": {
        "colab": {
          "base_uri": "https://localhost:8080/"
        },
        "id": "x24rFXkf8Ez1",
        "outputId": "3a3be390-0a02-4e8e-bcc6-71ed00b319ff"
      },
      "execution_count": 105,
      "outputs": [
        {
          "output_type": "execute_result",
          "data": {
            "text/plain": [
              "168.04250000000002"
            ]
          },
          "metadata": {},
          "execution_count": 105
        }
      ]
    },
    {
      "cell_type": "code",
      "source": [
        "# Amount of Average Glucose Level outliers was calculated by finding the maximum and identifying any data points beyond.\n",
        "# Maximum was calculated by equation Q3 + 1.5*IQR, or 75th percentile plus the product of 1.5 and the difference of the 75th to the 25th percentile.\n",
        "gluc_outlier = df[df['avg_glucose_level'] > 168.0425]\n",
        "gluc_outlier.sort_values(by = 'avg_glucose_level', ascending= True)"
      ],
      "metadata": {
        "colab": {
          "base_uri": "https://localhost:8080/",
          "height": 522
        },
        "id": "CPMI8HHt78Fd",
        "outputId": "8ffffa6b-b54c-45e4-c02e-2900f0b22728"
      },
      "execution_count": 114,
      "outputs": [
        {
          "output_type": "execute_result",
          "data": {
            "text/plain": [
              "      gender  age  hypertension  heart_disease      work_type residence_type  \\\n",
              "2517    Male   55             1              0        Private          Urban   \n",
              "1575  Female   18             0              0        Private          Rural   \n",
              "1797  Female   26             0              0        Private          Urban   \n",
              "4266    Male   81             0              0        Private          Urban   \n",
              "2637    Male   78             0              1  Self-employed          Urban   \n",
              "...      ...  ...           ...            ...            ...            ...   \n",
              "2462  Female   60             0              0       Govt_Job          Rural   \n",
              "4983    Male   76             1              0        Private          Rural   \n",
              "3088  Female   76             0              0  Self-employed          Urban   \n",
              "1207  Female   49             0              0        Private          Urban   \n",
              "193     Male   68             1              1        Private          Rural   \n",
              "\n",
              "      avg_glucose_level   bmi   smoking_status  stroke  \n",
              "2517             168.06  23.5           Smokes       0  \n",
              "1575             168.15  48.5     Never_Smoked       0  \n",
              "1797             168.15  22.9     Never_Smoked       0  \n",
              "4266             168.68  23.4  Formerly_Smoked       0  \n",
              "2637             169.43  23.5  Formerly_Smoked       0  \n",
              "...                 ...   ...              ...     ...  \n",
              "2462             266.59  25.5     Never_Smoked       0  \n",
              "4983             267.60  30.5     Never_Smoked       0  \n",
              "3088             267.61  27.9           Smokes       0  \n",
              "1207             267.76  29.3  Formerly_Smoked       0  \n",
              "193              271.74  31.1           Smokes       1  \n",
              "\n",
              "[570 rows x 10 columns]"
            ],
            "text/html": [
              "\n",
              "  <div id=\"df-9b90fdee-c084-4484-8b42-b20c062818d4\">\n",
              "    <div class=\"colab-df-container\">\n",
              "      <div>\n",
              "<style scoped>\n",
              "    .dataframe tbody tr th:only-of-type {\n",
              "        vertical-align: middle;\n",
              "    }\n",
              "\n",
              "    .dataframe tbody tr th {\n",
              "        vertical-align: top;\n",
              "    }\n",
              "\n",
              "    .dataframe thead th {\n",
              "        text-align: right;\n",
              "    }\n",
              "</style>\n",
              "<table border=\"1\" class=\"dataframe\">\n",
              "  <thead>\n",
              "    <tr style=\"text-align: right;\">\n",
              "      <th></th>\n",
              "      <th>gender</th>\n",
              "      <th>age</th>\n",
              "      <th>hypertension</th>\n",
              "      <th>heart_disease</th>\n",
              "      <th>work_type</th>\n",
              "      <th>residence_type</th>\n",
              "      <th>avg_glucose_level</th>\n",
              "      <th>bmi</th>\n",
              "      <th>smoking_status</th>\n",
              "      <th>stroke</th>\n",
              "    </tr>\n",
              "  </thead>\n",
              "  <tbody>\n",
              "    <tr>\n",
              "      <th>2517</th>\n",
              "      <td>Male</td>\n",
              "      <td>55</td>\n",
              "      <td>1</td>\n",
              "      <td>0</td>\n",
              "      <td>Private</td>\n",
              "      <td>Urban</td>\n",
              "      <td>168.06</td>\n",
              "      <td>23.5</td>\n",
              "      <td>Smokes</td>\n",
              "      <td>0</td>\n",
              "    </tr>\n",
              "    <tr>\n",
              "      <th>1575</th>\n",
              "      <td>Female</td>\n",
              "      <td>18</td>\n",
              "      <td>0</td>\n",
              "      <td>0</td>\n",
              "      <td>Private</td>\n",
              "      <td>Rural</td>\n",
              "      <td>168.15</td>\n",
              "      <td>48.5</td>\n",
              "      <td>Never_Smoked</td>\n",
              "      <td>0</td>\n",
              "    </tr>\n",
              "    <tr>\n",
              "      <th>1797</th>\n",
              "      <td>Female</td>\n",
              "      <td>26</td>\n",
              "      <td>0</td>\n",
              "      <td>0</td>\n",
              "      <td>Private</td>\n",
              "      <td>Urban</td>\n",
              "      <td>168.15</td>\n",
              "      <td>22.9</td>\n",
              "      <td>Never_Smoked</td>\n",
              "      <td>0</td>\n",
              "    </tr>\n",
              "    <tr>\n",
              "      <th>4266</th>\n",
              "      <td>Male</td>\n",
              "      <td>81</td>\n",
              "      <td>0</td>\n",
              "      <td>0</td>\n",
              "      <td>Private</td>\n",
              "      <td>Urban</td>\n",
              "      <td>168.68</td>\n",
              "      <td>23.4</td>\n",
              "      <td>Formerly_Smoked</td>\n",
              "      <td>0</td>\n",
              "    </tr>\n",
              "    <tr>\n",
              "      <th>2637</th>\n",
              "      <td>Male</td>\n",
              "      <td>78</td>\n",
              "      <td>0</td>\n",
              "      <td>1</td>\n",
              "      <td>Self-employed</td>\n",
              "      <td>Urban</td>\n",
              "      <td>169.43</td>\n",
              "      <td>23.5</td>\n",
              "      <td>Formerly_Smoked</td>\n",
              "      <td>0</td>\n",
              "    </tr>\n",
              "    <tr>\n",
              "      <th>...</th>\n",
              "      <td>...</td>\n",
              "      <td>...</td>\n",
              "      <td>...</td>\n",
              "      <td>...</td>\n",
              "      <td>...</td>\n",
              "      <td>...</td>\n",
              "      <td>...</td>\n",
              "      <td>...</td>\n",
              "      <td>...</td>\n",
              "      <td>...</td>\n",
              "    </tr>\n",
              "    <tr>\n",
              "      <th>2462</th>\n",
              "      <td>Female</td>\n",
              "      <td>60</td>\n",
              "      <td>0</td>\n",
              "      <td>0</td>\n",
              "      <td>Govt_Job</td>\n",
              "      <td>Rural</td>\n",
              "      <td>266.59</td>\n",
              "      <td>25.5</td>\n",
              "      <td>Never_Smoked</td>\n",
              "      <td>0</td>\n",
              "    </tr>\n",
              "    <tr>\n",
              "      <th>4983</th>\n",
              "      <td>Male</td>\n",
              "      <td>76</td>\n",
              "      <td>1</td>\n",
              "      <td>0</td>\n",
              "      <td>Private</td>\n",
              "      <td>Rural</td>\n",
              "      <td>267.60</td>\n",
              "      <td>30.5</td>\n",
              "      <td>Never_Smoked</td>\n",
              "      <td>0</td>\n",
              "    </tr>\n",
              "    <tr>\n",
              "      <th>3088</th>\n",
              "      <td>Female</td>\n",
              "      <td>76</td>\n",
              "      <td>0</td>\n",
              "      <td>0</td>\n",
              "      <td>Self-employed</td>\n",
              "      <td>Urban</td>\n",
              "      <td>267.61</td>\n",
              "      <td>27.9</td>\n",
              "      <td>Smokes</td>\n",
              "      <td>0</td>\n",
              "    </tr>\n",
              "    <tr>\n",
              "      <th>1207</th>\n",
              "      <td>Female</td>\n",
              "      <td>49</td>\n",
              "      <td>0</td>\n",
              "      <td>0</td>\n",
              "      <td>Private</td>\n",
              "      <td>Urban</td>\n",
              "      <td>267.76</td>\n",
              "      <td>29.3</td>\n",
              "      <td>Formerly_Smoked</td>\n",
              "      <td>0</td>\n",
              "    </tr>\n",
              "    <tr>\n",
              "      <th>193</th>\n",
              "      <td>Male</td>\n",
              "      <td>68</td>\n",
              "      <td>1</td>\n",
              "      <td>1</td>\n",
              "      <td>Private</td>\n",
              "      <td>Rural</td>\n",
              "      <td>271.74</td>\n",
              "      <td>31.1</td>\n",
              "      <td>Smokes</td>\n",
              "      <td>1</td>\n",
              "    </tr>\n",
              "  </tbody>\n",
              "</table>\n",
              "<p>570 rows × 10 columns</p>\n",
              "</div>\n",
              "      <button class=\"colab-df-convert\" onclick=\"convertToInteractive('df-9b90fdee-c084-4484-8b42-b20c062818d4')\"\n",
              "              title=\"Convert this dataframe to an interactive table.\"\n",
              "              style=\"display:none;\">\n",
              "        \n",
              "  <svg xmlns=\"http://www.w3.org/2000/svg\" height=\"24px\"viewBox=\"0 0 24 24\"\n",
              "       width=\"24px\">\n",
              "    <path d=\"M0 0h24v24H0V0z\" fill=\"none\"/>\n",
              "    <path d=\"M18.56 5.44l.94 2.06.94-2.06 2.06-.94-2.06-.94-.94-2.06-.94 2.06-2.06.94zm-11 1L8.5 8.5l.94-2.06 2.06-.94-2.06-.94L8.5 2.5l-.94 2.06-2.06.94zm10 10l.94 2.06.94-2.06 2.06-.94-2.06-.94-.94-2.06-.94 2.06-2.06.94z\"/><path d=\"M17.41 7.96l-1.37-1.37c-.4-.4-.92-.59-1.43-.59-.52 0-1.04.2-1.43.59L10.3 9.45l-7.72 7.72c-.78.78-.78 2.05 0 2.83L4 21.41c.39.39.9.59 1.41.59.51 0 1.02-.2 1.41-.59l7.78-7.78 2.81-2.81c.8-.78.8-2.07 0-2.86zM5.41 20L4 18.59l7.72-7.72 1.47 1.35L5.41 20z\"/>\n",
              "  </svg>\n",
              "      </button>\n",
              "      \n",
              "  <style>\n",
              "    .colab-df-container {\n",
              "      display:flex;\n",
              "      flex-wrap:wrap;\n",
              "      gap: 12px;\n",
              "    }\n",
              "\n",
              "    .colab-df-convert {\n",
              "      background-color: #E8F0FE;\n",
              "      border: none;\n",
              "      border-radius: 50%;\n",
              "      cursor: pointer;\n",
              "      display: none;\n",
              "      fill: #1967D2;\n",
              "      height: 32px;\n",
              "      padding: 0 0 0 0;\n",
              "      width: 32px;\n",
              "    }\n",
              "\n",
              "    .colab-df-convert:hover {\n",
              "      background-color: #E2EBFA;\n",
              "      box-shadow: 0px 1px 2px rgba(60, 64, 67, 0.3), 0px 1px 3px 1px rgba(60, 64, 67, 0.15);\n",
              "      fill: #174EA6;\n",
              "    }\n",
              "\n",
              "    [theme=dark] .colab-df-convert {\n",
              "      background-color: #3B4455;\n",
              "      fill: #D2E3FC;\n",
              "    }\n",
              "\n",
              "    [theme=dark] .colab-df-convert:hover {\n",
              "      background-color: #434B5C;\n",
              "      box-shadow: 0px 1px 3px 1px rgba(0, 0, 0, 0.15);\n",
              "      filter: drop-shadow(0px 1px 2px rgba(0, 0, 0, 0.3));\n",
              "      fill: #FFFFFF;\n",
              "    }\n",
              "  </style>\n",
              "\n",
              "      <script>\n",
              "        const buttonEl =\n",
              "          document.querySelector('#df-9b90fdee-c084-4484-8b42-b20c062818d4 button.colab-df-convert');\n",
              "        buttonEl.style.display =\n",
              "          google.colab.kernel.accessAllowed ? 'block' : 'none';\n",
              "\n",
              "        async function convertToInteractive(key) {\n",
              "          const element = document.querySelector('#df-9b90fdee-c084-4484-8b42-b20c062818d4');\n",
              "          const dataTable =\n",
              "            await google.colab.kernel.invokeFunction('convertToInteractive',\n",
              "                                                     [key], {});\n",
              "          if (!dataTable) return;\n",
              "\n",
              "          const docLinkHtml = 'Like what you see? Visit the ' +\n",
              "            '<a target=\"_blank\" href=https://colab.research.google.com/notebooks/data_table.ipynb>data table notebook</a>'\n",
              "            + ' to learn more about interactive tables.';\n",
              "          element.innerHTML = '';\n",
              "          dataTable['output_type'] = 'display_data';\n",
              "          await google.colab.output.renderOutput(dataTable, element);\n",
              "          const docLink = document.createElement('div');\n",
              "          docLink.innerHTML = docLinkHtml;\n",
              "          element.appendChild(docLink);\n",
              "        }\n",
              "      </script>\n",
              "    </div>\n",
              "  </div>\n",
              "  "
            ]
          },
          "metadata": {},
          "execution_count": 114
        }
      ]
    },
    {
      "cell_type": "code",
      "source": [
        "print(f'Outliers: {gluc_outlier.value_counts().sum()}')\n",
        "print(f'{((gluc_outlier.value_counts().sum())/4890).round(4)*100}%')"
      ],
      "metadata": {
        "colab": {
          "base_uri": "https://localhost:8080/"
        },
        "id": "xP7-VqYv9RDI",
        "outputId": "277752d6-b7a1-4908-a5fe-32fdcf682903"
      },
      "execution_count": 130,
      "outputs": [
        {
          "output_type": "stream",
          "name": "stdout",
          "text": [
            "Outliers: 570\n",
            "11.66%\n"
          ]
        }
      ]
    },
    {
      "cell_type": "markdown",
      "source": [
        "- There were 570 outliers in Average Glucose Levels, which accouts for approximately 11.66% of collected data.\n",
        "- The outlier values ranged from 168.06 to 271.74"
      ],
      "metadata": {
        "id": "-rk80J9vBWGg"
      }
    },
    {
      "cell_type": "markdown",
      "source": [
        "##BMI"
      ],
      "metadata": {
        "id": "I-9mD6lVyQd9"
      }
    },
    {
      "cell_type": "code",
      "source": [
        "sns.histplot(data = df, x = 'bmi', color = 'orange')\n",
        "plt.xlabel('BMI');"
      ],
      "metadata": {
        "colab": {
          "base_uri": "https://localhost:8080/",
          "height": 285
        },
        "id": "E46qd3X-hEPA",
        "outputId": "254b8fcd-b219-41d1-d6f4-d60032b0f5b4"
      },
      "execution_count": 72,
      "outputs": [
        {
          "output_type": "display_data",
          "data": {
            "text/plain": [
              "<Figure size 432x288 with 1 Axes>"
            ],
            "image/png": "[encoded data removed]"
          },
          "metadata": {}
        }
      ]
    },
    {
      "cell_type": "markdown",
      "source": [
        "- Majority of BMI levels were 35 and under."
      ],
      "metadata": {
        "id": "TwL2T325B776"
      }
    },
    {
      "cell_type": "code",
      "source": [
        "plt.figure(figsize=(5, 10))\n",
        "sns.boxplot(data = df['bmi'], notch = True);\n",
        "plt.show()\n",
        "print('\\n')\n",
        "print(df['bmi'].describe())"
      ],
      "metadata": {
        "colab": {
          "base_uri": "https://localhost:8080/",
          "height": 785
        },
        "id": "CMWaPMKZxxcM",
        "outputId": "015699da-9eff-4c29-cfa6-801589d91bc5"
      },
      "execution_count": 73,
      "outputs": [
        {
          "output_type": "display_data",
          "data": {
            "text/plain": [
              "<Figure size 360x720 with 1 Axes>"
            ],
            "image/png": "[encoded data removed]"
          },
          "metadata": {}
        },
        {
          "output_type": "stream",
          "name": "stdout",
          "text": [
            "\n",
            "\n",
            "count    4890.000000\n",
            "mean       28.940757\n",
            "std         7.831014\n",
            "min        10.300000\n",
            "25%        23.600000\n",
            "50%        28.100000\n",
            "75%        33.100000\n",
            "max        97.600000\n",
            "Name: bmi, dtype: float64\n"
          ]
        }
      ]
    },
    {
      "cell_type": "code",
      "source": [
        "33.1 + 1.5*(33.1 - 23.6)"
      ],
      "metadata": {
        "colab": {
          "base_uri": "https://localhost:8080/"
        },
        "id": "1z0GhxQf8ksf",
        "outputId": "832d9572-1ac2-4cc9-dac1-e85921390372"
      },
      "execution_count": 108,
      "outputs": [
        {
          "output_type": "execute_result",
          "data": {
            "text/plain": [
              "47.35"
            ]
          },
          "metadata": {},
          "execution_count": 108
        }
      ]
    },
    {
      "cell_type": "code",
      "source": [
        "# Amount of BMI outliers was calculated by finding the maximum and identifying any data points beyond.\n",
        "# Maximum was calculated by equation Q3 + 1.5*IQR, or 75th percentile plus the product of 1.5 and the difference of the 75th to the 25th percentile.\n",
        "bmi_outlier = df[df['bmi'] > 47.35]\n",
        "bmi_outlier.sort_values(by = 'bmi', ascending= True)"
      ],
      "metadata": {
        "colab": {
          "base_uri": "https://localhost:8080/",
          "height": 488
        },
        "id": "p9nuVYrwz-Bl",
        "outputId": "c85bf6b1-b298-4e7c-a957-a9f9db0551e6"
      },
      "execution_count": 112,
      "outputs": [
        {
          "output_type": "execute_result",
          "data": {
            "text/plain": [
              "      gender  age  hypertension  heart_disease work_type residence_type  \\\n",
              "3594  Female   62             0              0   Private          Rural   \n",
              "66    Female   70             0              0   Private          Urban   \n",
              "1529  Female   82             0              0   Private          Urban   \n",
              "4533  Female   32             0              0   Private          Rural   \n",
              "4405  Female   70             0              0   Private          Rural   \n",
              "...      ...  ...           ...            ...       ...            ...   \n",
              "1559  Female   53             0              0   Private          Rural   \n",
              "544     Male   42             0              0   Private          Rural   \n",
              "928   Female   23             1              0   Private          Urban   \n",
              "4209    Male   38             1              0   Private          Rural   \n",
              "2128    Male   17             1              0   Private          Rural   \n",
              "\n",
              "      avg_glucose_level   bmi smoking_status  stroke  \n",
              "3594             226.38  47.4   Never_Smoked       0  \n",
              "66               221.58  47.5   Never_Smoked       1  \n",
              "1529             253.16  47.5        Unknown       0  \n",
              "4533              66.30  47.5   Never_Smoked       0  \n",
              "4405             149.80  47.6        Unknown       0  \n",
              "...                 ...   ...            ...     ...  \n",
              "1559              72.63  66.8        Unknown       0  \n",
              "544              210.48  71.9   Never_Smoked       0  \n",
              "928               70.03  78.0         Smokes       0  \n",
              "4209              56.90  92.0   Never_Smoked       0  \n",
              "2128              61.67  97.6        Unknown       0  \n",
              "\n",
              "[114 rows x 10 columns]"
            ],
            "text/html": [
              "\n",
              "  <div id=\"df-7b2ecb2b-3f16-44ff-8a39-59657b2f2d4f\">\n",
              "    <div class=\"colab-df-container\">\n",
              "      <div>\n",
              "<style scoped>\n",
              "    .dataframe tbody tr th:only-of-type {\n",
              "        vertical-align: middle;\n",
              "    }\n",
              "\n",
              "    .dataframe tbody tr th {\n",
              "        vertical-align: top;\n",
              "    }\n",
              "\n",
              "    .dataframe thead th {\n",
              "        text-align: right;\n",
              "    }\n",
              "</style>\n",
              "<table border=\"1\" class=\"dataframe\">\n",
              "  <thead>\n",
              "    <tr style=\"text-align: right;\">\n",
              "      <th></th>\n",
              "      <th>gender</th>\n",
              "      <th>age</th>\n",
              "      <th>hypertension</th>\n",
              "      <th>heart_disease</th>\n",
              "      <th>work_type</th>\n",
              "      <th>residence_type</th>\n",
              "      <th>avg_glucose_level</th>\n",
              "      <th>bmi</th>\n",
              "      <th>smoking_status</th>\n",
              "      <th>stroke</th>\n",
              "    </tr>\n",
              "  </thead>\n",
              "  <tbody>\n",
              "    <tr>\n",
              "      <th>3594</th>\n",
              "      <td>Female</td>\n",
              "      <td>62</td>\n",
              "      <td>0</td>\n",
              "      <td>0</td>\n",
              "      <td>Private</td>\n",
              "      <td>Rural</td>\n",
              "      <td>226.38</td>\n",
              "      <td>47.4</td>\n",
              "      <td>Never_Smoked</td>\n",
              "      <td>0</td>\n",
              "    </tr>\n",
              "    <tr>\n",
              "      <th>66</th>\n",
              "      <td>Female</td>\n",
              "      <td>70</td>\n",
              "      <td>0</td>\n",
              "      <td>0</td>\n",
              "      <td>Private</td>\n",
              "      <td>Urban</td>\n",
              "      <td>221.58</td>\n",
              "      <td>47.5</td>\n",
              "      <td>Never_Smoked</td>\n",
              "      <td>1</td>\n",
              "    </tr>\n",
              "    <tr>\n",
              "      <th>1529</th>\n",
              "      <td>Female</td>\n",
              "      <td>82</td>\n",
              "      <td>0</td>\n",
              "      <td>0</td>\n",
              "      <td>Private</td>\n",
              "      <td>Urban</td>\n",
              "      <td>253.16</td>\n",
              "      <td>47.5</td>\n",
              "      <td>Unknown</td>\n",
              "      <td>0</td>\n",
              "    </tr>\n",
              "    <tr>\n",
              "      <th>4533</th>\n",
              "      <td>Female</td>\n",
              "      <td>32</td>\n",
              "      <td>0</td>\n",
              "      <td>0</td>\n",
              "      <td>Private</td>\n",
              "      <td>Rural</td>\n",
              "      <td>66.30</td>\n",
              "      <td>47.5</td>\n",
              "      <td>Never_Smoked</td>\n",
              "      <td>0</td>\n",
              "    </tr>\n",
              "    <tr>\n",
              "      <th>4405</th>\n",
              "      <td>Female</td>\n",
              "      <td>70</td>\n",
              "      <td>0</td>\n",
              "      <td>0</td>\n",
              "      <td>Private</td>\n",
              "      <td>Rural</td>\n",
              "      <td>149.80</td>\n",
              "      <td>47.6</td>\n",
              "      <td>Unknown</td>\n",
              "      <td>0</td>\n",
              "    </tr>\n",
              "    <tr>\n",
              "      <th>...</th>\n",
              "      <td>...</td>\n",
              "      <td>...</td>\n",
              "      <td>...</td>\n",
              "      <td>...</td>\n",
              "      <td>...</td>\n",
              "      <td>...</td>\n",
              "      <td>...</td>\n",
              "      <td>...</td>\n",
              "      <td>...</td>\n",
              "      <td>...</td>\n",
              "    </tr>\n",
              "    <tr>\n",
              "      <th>1559</th>\n",
              "      <td>Female</td>\n",
              "      <td>53</td>\n",
              "      <td>0</td>\n",
              "      <td>0</td>\n",
              "      <td>Private</td>\n",
              "      <td>Rural</td>\n",
              "      <td>72.63</td>\n",
              "      <td>66.8</td>\n",
              "      <td>Unknown</td>\n",
              "      <td>0</td>\n",
              "    </tr>\n",
              "    <tr>\n",
              "      <th>544</th>\n",
              "      <td>Male</td>\n",
              "      <td>42</td>\n",
              "      <td>0</td>\n",
              "      <td>0</td>\n",
              "      <td>Private</td>\n",
              "      <td>Rural</td>\n",
              "      <td>210.48</td>\n",
              "      <td>71.9</td>\n",
              "      <td>Never_Smoked</td>\n",
              "      <td>0</td>\n",
              "    </tr>\n",
              "    <tr>\n",
              "      <th>928</th>\n",
              "      <td>Female</td>\n",
              "      <td>23</td>\n",
              "      <td>1</td>\n",
              "      <td>0</td>\n",
              "      <td>Private</td>\n",
              "      <td>Urban</td>\n",
              "      <td>70.03</td>\n",
              "      <td>78.0</td>\n",
              "      <td>Smokes</td>\n",
              "      <td>0</td>\n",
              "    </tr>\n",
              "    <tr>\n",
              "      <th>4209</th>\n",
              "      <td>Male</td>\n",
              "      <td>38</td>\n",
              "      <td>1</td>\n",
              "      <td>0</td>\n",
              "      <td>Private</td>\n",
              "      <td>Rural</td>\n",
              "      <td>56.90</td>\n",
              "      <td>92.0</td>\n",
              "      <td>Never_Smoked</td>\n",
              "      <td>0</td>\n",
              "    </tr>\n",
              "    <tr>\n",
              "      <th>2128</th>\n",
              "      <td>Male</td>\n",
              "      <td>17</td>\n",
              "      <td>1</td>\n",
              "      <td>0</td>\n",
              "      <td>Private</td>\n",
              "      <td>Rural</td>\n",
              "      <td>61.67</td>\n",
              "      <td>97.6</td>\n",
              "      <td>Unknown</td>\n",
              "      <td>0</td>\n",
              "    </tr>\n",
              "  </tbody>\n",
              "</table>\n",
              "<p>114 rows × 10 columns</p>\n",
              "</div>\n",
              "      <button class=\"colab-df-convert\" onclick=\"convertToInteractive('df-7b2ecb2b-3f16-44ff-8a39-59657b2f2d4f')\"\n",
              "              title=\"Convert this dataframe to an interactive table.\"\n",
              "              style=\"display:none;\">\n",
              "        \n",
              "  <svg xmlns=\"http://www.w3.org/2000/svg\" height=\"24px\"viewBox=\"0 0 24 24\"\n",
              "       width=\"24px\">\n",
              "    <path d=\"M0 0h24v24H0V0z\" fill=\"none\"/>\n",
              "    <path d=\"M18.56 5.44l.94 2.06.94-2.06 2.06-.94-2.06-.94-.94-2.06-.94 2.06-2.06.94zm-11 1L8.5 8.5l.94-2.06 2.06-.94-2.06-.94L8.5 2.5l-.94 2.06-2.06.94zm10 10l.94 2.06.94-2.06 2.06-.94-2.06-.94-.94-2.06-.94 2.06-2.06.94z\"/><path d=\"M17.41 7.96l-1.37-1.37c-.4-.4-.92-.59-1.43-.59-.52 0-1.04.2-1.43.59L10.3 9.45l-7.72 7.72c-.78.78-.78 2.05 0 2.83L4 21.41c.39.39.9.59 1.41.59.51 0 1.02-.2 1.41-.59l7.78-7.78 2.81-2.81c.8-.78.8-2.07 0-2.86zM5.41 20L4 18.59l7.72-7.72 1.47 1.35L5.41 20z\"/>\n",
              "  </svg>\n",
              "      </button>\n",
              "      \n",
              "  <style>\n",
              "    .colab-df-container {\n",
              "      display:flex;\n",
              "      flex-wrap:wrap;\n",
              "      gap: 12px;\n",
              "    }\n",
              "\n",
              "    .colab-df-convert {\n",
              "      background-color: #E8F0FE;\n",
              "      border: none;\n",
              "      border-radius: 50%;\n",
              "      cursor: pointer;\n",
              "      display: none;\n",
              "      fill: #1967D2;\n",
              "      height: 32px;\n",
              "      padding: 0 0 0 0;\n",
              "      width: 32px;\n",
              "    }\n",
              "\n",
              "    .colab-df-convert:hover {\n",
              "      background-color: #E2EBFA;\n",
              "      box-shadow: 0px 1px 2px rgba(60, 64, 67, 0.3), 0px 1px 3px 1px rgba(60, 64, 67, 0.15);\n",
              "      fill: #174EA6;\n",
              "    }\n",
              "\n",
              "    [theme=dark] .colab-df-convert {\n",
              "      background-color: #3B4455;\n",
              "      fill: #D2E3FC;\n",
              "    }\n",
              "\n",
              "    [theme=dark] .colab-df-convert:hover {\n",
              "      background-color: #434B5C;\n",
              "      box-shadow: 0px 1px 3px 1px rgba(0, 0, 0, 0.15);\n",
              "      filter: drop-shadow(0px 1px 2px rgba(0, 0, 0, 0.3));\n",
              "      fill: #FFFFFF;\n",
              "    }\n",
              "  </style>\n",
              "\n",
              "      <script>\n",
              "        const buttonEl =\n",
              "          document.querySelector('#df-7b2ecb2b-3f16-44ff-8a39-59657b2f2d4f button.colab-df-convert');\n",
              "        buttonEl.style.display =\n",
              "          google.colab.kernel.accessAllowed ? 'block' : 'none';\n",
              "\n",
              "        async function convertToInteractive(key) {\n",
              "          const element = document.querySelector('#df-7b2ecb2b-3f16-44ff-8a39-59657b2f2d4f');\n",
              "          const dataTable =\n",
              "            await google.colab.kernel.invokeFunction('convertToInteractive',\n",
              "                                                     [key], {});\n",
              "          if (!dataTable) return;\n",
              "\n",
              "          const docLinkHtml = 'Like what you see? Visit the ' +\n",
              "            '<a target=\"_blank\" href=https://colab.research.google.com/notebooks/data_table.ipynb>data table notebook</a>'\n",
              "            + ' to learn more about interactive tables.';\n",
              "          element.innerHTML = '';\n",
              "          dataTable['output_type'] = 'display_data';\n",
              "          await google.colab.output.renderOutput(dataTable, element);\n",
              "          const docLink = document.createElement('div');\n",
              "          docLink.innerHTML = docLinkHtml;\n",
              "          element.appendChild(docLink);\n",
              "        }\n",
              "      </script>\n",
              "    </div>\n",
              "  </div>\n",
              "  "
            ]
          },
          "metadata": {},
          "execution_count": 112
        }
      ]
    },
    {
      "cell_type": "code",
      "source": [
        "print(f'Outliers: {bmi_outlier.value_counts().sum()}')\n",
        "print(f'{((bmi_outlier.value_counts().sum())/4890).round(4)*100}%')"
      ],
      "metadata": {
        "colab": {
          "base_uri": "https://localhost:8080/"
        },
        "id": "_7IGo-By7m_f",
        "outputId": "33116375-cc91-4dae-e0fe-4d2fe09d48ee"
      },
      "execution_count": 132,
      "outputs": [
        {
          "output_type": "stream",
          "name": "stdout",
          "text": [
            "Outliers: 114\n",
            "2.33%\n"
          ]
        }
      ]
    },
    {
      "cell_type": "markdown",
      "source": [
        "- There were 114 outliers in BMI, which accouts for approximately 2.33% of collected data.\n",
        "- The outlier values ranged from 47.4 to 97.6"
      ],
      "metadata": {
        "id": "mJBHe74oCEnq"
      }
    },
    {
      "cell_type": "markdown",
      "source": [
        "##Smoking Status"
      ],
      "metadata": {
        "id": "ChpygZZ_7Btl"
      }
    },
    {
      "cell_type": "code",
      "source": [
        "ax4 = sns.histplot(data = df, x = 'smoking_status', color = 'yellow')\n",
        "ax4.set_xticks([0, 1, 2, 3])\n",
        "ax4.set_xticklabels(['Formerly Smoked', 'Never Smoked', 'Smokes', 'Unknown'], rotation = 45)\n",
        "plt.xlabel('Smoking Status');\n",
        "plt.show()\n",
        "print('\\n')\n",
        "print(df['smoking_status'].value_counts())"
      ],
      "metadata": {
        "colab": {
          "base_uri": "https://localhost:8080/",
          "height": 472
        },
        "id": "3cpaoHHZhHig",
        "outputId": "8367e2ff-ae14-46b0-d82c-9b4d59ad6909"
      },
      "execution_count": 55,
      "outputs": [
        {
          "output_type": "display_data",
          "data": {
            "text/plain": [
              "<Figure size 432x288 with 1 Axes>"
            ],
            "image/png": "[encoded data removed]"
          },
          "metadata": {}
        },
        {
          "output_type": "stream",
          "name": "stdout",
          "text": [
            "\n",
            "\n",
            "Never_Smoked       1852\n",
            "Unknown            1464\n",
            "Formerly_Smoked     837\n",
            "Smokes              737\n",
            "Name: smoking_status, dtype: int64\n"
          ]
        }
      ]
    },
    {
      "cell_type": "code",
      "source": [
        "(1464/4890)"
      ],
      "metadata": {
        "colab": {
          "base_uri": "https://localhost:8080/"
        },
        "id": "tlNr7yIQCuRO",
        "outputId": "623ee468-cec2-4bab-e780-8f01a8e284f5"
      },
      "execution_count": 136,
      "outputs": [
        {
          "output_type": "execute_result",
          "data": {
            "text/plain": [
              "0.29938650306748466"
            ]
          },
          "metadata": {},
          "execution_count": 136
        }
      ]
    },
    {
      "cell_type": "markdown",
      "source": [
        "- Majority of known smoking status falls under Never Smoked\n",
        "- There is a large amount of Unknown values (~ 29.9%).\n",
        ">Since cigarette smoking is a well established risk factor for all forms of stroke ([source](https://www.ncbi.nlm.nih.gov/pmc/articles/PMC2928253/#:~:text=Cigarette%20smoking%20is%20a%20well,for%20all%20forms%20of%20stroke)) I have not dropped this column. Imputing incorrect values on such a large amount of data will skew results, therefore I will work with data as-is."
      ],
      "metadata": {
        "id": "3WWv6rF_Cbhp"
      }
    },
    {
      "cell_type": "markdown",
      "source": [
        "##Stroke"
      ],
      "metadata": {
        "id": "i9HIAATgyVvZ"
      }
    },
    {
      "cell_type": "code",
      "source": [
        "ax5 = sns.histplot(data = df, x = 'stroke', color = 'orange')\n",
        "ax5.set_xticks((0, 1), labels=('No', 'Yes'))\n",
        "plt.xlabel('Stroke');\n",
        "plt.show()\n",
        "print('\\n')\n",
        "print(df['stroke'].value_counts())"
      ],
      "metadata": {
        "colab": {
          "base_uri": "https://localhost:8080/",
          "height": 372
        },
        "id": "00ctL5ZNhLqV",
        "outputId": "81ed0b08-9edd-4905-e081-56eaf5ca945f"
      },
      "execution_count": 57,
      "outputs": [
        {
          "output_type": "display_data",
          "data": {
            "text/plain": [
              "<Figure size 432x288 with 1 Axes>"
            ],
            "image/png": "[encoded data removed]"
          },
          "metadata": {}
        },
        {
          "output_type": "stream",
          "name": "stdout",
          "text": [
            "\n",
            "\n",
            "0    4681\n",
            "1     209\n",
            "Name: stroke, dtype: int64\n"
          ]
        }
      ]
    },
    {
      "cell_type": "markdown",
      "source": [
        "- The majority of persons have not suffered a stroke."
      ],
      "metadata": {
        "id": "6njhp8VeD_G_"
      }
    },
    {
      "cell_type": "code",
      "source": [],
      "metadata": {
        "id": "5NGbYkroEBia"
      },
      "execution_count": null,
      "outputs": []
    }
  ]
}